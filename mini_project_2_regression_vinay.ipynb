{
 "cells": [
  {
   "cell_type": "code",
   "execution_count": 1,
   "id": "6745fa63",
   "metadata": {},
   "outputs": [],
   "source": [
    "#import library\n",
    "import pandas as pd\n",
    "import numpy as np\n",
    "import seaborn as sns\n",
    "import matplotlib.pyplot as plt\n",
    "from sklearn.preprocessing import MinMaxScaler,StandardScaler\n",
    "from sklearn.model_selection import train_test_split,cross_val_score\n",
    "from sklearn.linear_model import LinearRegression\n",
    "from sklearn.tree import DecisionTreeRegressor\n",
    "from sklearn.ensemble import RandomForestRegressor\n",
    "from sklearn.metrics import mean_absolute_error,mean_squared_error,r2_score\n",
    "import warnings\n",
    "warnings.filterwarnings(\"ignore\")"
   ]
  },
  {
   "cell_type": "code",
   "execution_count": 2,
   "id": "6a358b41",
   "metadata": {},
   "outputs": [],
   "source": [
    "#load dataset\n",
    "df=pd.read_csv('Regression_Insurance_Data.csv')\n"
   ]
  },
  {
   "cell_type": "code",
   "execution_count": 3,
   "id": "7f5d61d3",
   "metadata": {},
   "outputs": [],
   "source": [
    "pd.set_option('display.max_rows', None)"
   ]
  },
  {
   "cell_type": "code",
   "execution_count": null,
   "id": "1f12f1ab",
   "metadata": {},
   "outputs": [],
   "source": []
  },
  {
   "cell_type": "code",
   "execution_count": 4,
   "id": "a6332e47",
   "metadata": {},
   "outputs": [
    {
     "data": {
      "text/html": [
       "<div>\n",
       "<style scoped>\n",
       "    .dataframe tbody tr th:only-of-type {\n",
       "        vertical-align: middle;\n",
       "    }\n",
       "\n",
       "    .dataframe tbody tr th {\n",
       "        vertical-align: top;\n",
       "    }\n",
       "\n",
       "    .dataframe thead th {\n",
       "        text-align: right;\n",
       "    }\n",
       "</style>\n",
       "<table border=\"1\" class=\"dataframe\">\n",
       "  <thead>\n",
       "    <tr style=\"text-align: right;\">\n",
       "      <th></th>\n",
       "      <th>age</th>\n",
       "      <th>sex</th>\n",
       "      <th>bmi</th>\n",
       "      <th>classif</th>\n",
       "      <th>children</th>\n",
       "      <th>smoker</th>\n",
       "      <th>region</th>\n",
       "      <th>charges</th>\n",
       "    </tr>\n",
       "  </thead>\n",
       "  <tbody>\n",
       "    <tr>\n",
       "      <th>0</th>\n",
       "      <td>19</td>\n",
       "      <td>female</td>\n",
       "      <td>27.900</td>\n",
       "      <td>PREO</td>\n",
       "      <td>0</td>\n",
       "      <td>yes</td>\n",
       "      <td>southwest</td>\n",
       "      <td>16884.92400</td>\n",
       "    </tr>\n",
       "    <tr>\n",
       "      <th>1</th>\n",
       "      <td>18</td>\n",
       "      <td>male</td>\n",
       "      <td>33.770</td>\n",
       "      <td>OB1</td>\n",
       "      <td>1</td>\n",
       "      <td>no</td>\n",
       "      <td>southeast</td>\n",
       "      <td>1725.55230</td>\n",
       "    </tr>\n",
       "    <tr>\n",
       "      <th>2</th>\n",
       "      <td>28</td>\n",
       "      <td>male</td>\n",
       "      <td>33.000</td>\n",
       "      <td>OB1</td>\n",
       "      <td>3</td>\n",
       "      <td>no</td>\n",
       "      <td>southeast</td>\n",
       "      <td>4449.46200</td>\n",
       "    </tr>\n",
       "    <tr>\n",
       "      <th>3</th>\n",
       "      <td>0</td>\n",
       "      <td>male</td>\n",
       "      <td>22.705</td>\n",
       "      <td>N</td>\n",
       "      <td>0</td>\n",
       "      <td>no</td>\n",
       "      <td>northwest</td>\n",
       "      <td>21984.47061</td>\n",
       "    </tr>\n",
       "    <tr>\n",
       "      <th>4</th>\n",
       "      <td>32</td>\n",
       "      <td>male</td>\n",
       "      <td>28.880</td>\n",
       "      <td>PREO</td>\n",
       "      <td>0</td>\n",
       "      <td>no</td>\n",
       "      <td>northwest</td>\n",
       "      <td>3866.85520</td>\n",
       "    </tr>\n",
       "  </tbody>\n",
       "</table>\n",
       "</div>"
      ],
      "text/plain": [
       "   age     sex     bmi classif  children smoker     region      charges\n",
       "0   19  female  27.900    PREO         0    yes  southwest  16884.92400\n",
       "1   18    male  33.770     OB1         1     no  southeast   1725.55230\n",
       "2   28    male  33.000     OB1         3     no  southeast   4449.46200\n",
       "3    0    male  22.705       N         0     no  northwest  21984.47061\n",
       "4   32    male  28.880    PREO         0     no  northwest   3866.85520"
      ]
     },
     "execution_count": 4,
     "metadata": {},
     "output_type": "execute_result"
    }
   ],
   "source": [
    "#top five data\n",
    "df.head()"
   ]
  },
  {
   "cell_type": "code",
   "execution_count": 5,
   "id": "76daafee",
   "metadata": {},
   "outputs": [
    {
     "data": {
      "text/plain": [
       "(1338, 8)"
      ]
     },
     "execution_count": 5,
     "metadata": {},
     "output_type": "execute_result"
    }
   ],
   "source": [
    "df.shape"
   ]
  },
  {
   "cell_type": "code",
   "execution_count": 6,
   "id": "becf2140",
   "metadata": {},
   "outputs": [
    {
     "name": "stdout",
     "output_type": "stream",
     "text": [
      "<class 'pandas.core.frame.DataFrame'>\n",
      "RangeIndex: 1338 entries, 0 to 1337\n",
      "Data columns (total 8 columns):\n",
      " #   Column    Non-Null Count  Dtype  \n",
      "---  ------    --------------  -----  \n",
      " 0   age       1338 non-null   int64  \n",
      " 1   sex       1338 non-null   object \n",
      " 2   bmi       1338 non-null   float64\n",
      " 3   classif   1330 non-null   object \n",
      " 4   children  1338 non-null   int64  \n",
      " 5   smoker    1338 non-null   object \n",
      " 6   region    1338 non-null   object \n",
      " 7   charges   1338 non-null   float64\n",
      "dtypes: float64(2), int64(2), object(4)\n",
      "memory usage: 83.8+ KB\n"
     ]
    }
   ],
   "source": [
    "#data information\n",
    "df.info()"
   ]
  },
  {
   "cell_type": "code",
   "execution_count": 7,
   "id": "fa860fb3",
   "metadata": {},
   "outputs": [
    {
     "data": {
      "text/plain": [
       "(1338, 8)"
      ]
     },
     "execution_count": 7,
     "metadata": {},
     "output_type": "execute_result"
    }
   ],
   "source": [
    "# check row and columns\n",
    "df.shape"
   ]
  },
  {
   "cell_type": "code",
   "execution_count": 8,
   "id": "deef56cd",
   "metadata": {},
   "outputs": [
    {
     "data": {
      "text/html": [
       "<div>\n",
       "<style scoped>\n",
       "    .dataframe tbody tr th:only-of-type {\n",
       "        vertical-align: middle;\n",
       "    }\n",
       "\n",
       "    .dataframe tbody tr th {\n",
       "        vertical-align: top;\n",
       "    }\n",
       "\n",
       "    .dataframe thead th {\n",
       "        text-align: right;\n",
       "    }\n",
       "</style>\n",
       "<table border=\"1\" class=\"dataframe\">\n",
       "  <thead>\n",
       "    <tr style=\"text-align: right;\">\n",
       "      <th></th>\n",
       "      <th>age</th>\n",
       "      <th>bmi</th>\n",
       "      <th>children</th>\n",
       "      <th>charges</th>\n",
       "    </tr>\n",
       "  </thead>\n",
       "  <tbody>\n",
       "    <tr>\n",
       "      <th>count</th>\n",
       "      <td>1338.000000</td>\n",
       "      <td>1338.000000</td>\n",
       "      <td>1338.000000</td>\n",
       "      <td>1338.000000</td>\n",
       "    </tr>\n",
       "    <tr>\n",
       "      <th>mean</th>\n",
       "      <td>39.133782</td>\n",
       "      <td>30.663397</td>\n",
       "      <td>1.094918</td>\n",
       "      <td>13270.422265</td>\n",
       "    </tr>\n",
       "    <tr>\n",
       "      <th>std</th>\n",
       "      <td>14.958658</td>\n",
       "      <td>6.098187</td>\n",
       "      <td>1.205493</td>\n",
       "      <td>12110.011237</td>\n",
       "    </tr>\n",
       "    <tr>\n",
       "      <th>min</th>\n",
       "      <td>-58.000000</td>\n",
       "      <td>15.960000</td>\n",
       "      <td>0.000000</td>\n",
       "      <td>1121.873900</td>\n",
       "    </tr>\n",
       "    <tr>\n",
       "      <th>25%</th>\n",
       "      <td>26.000000</td>\n",
       "      <td>26.296250</td>\n",
       "      <td>0.000000</td>\n",
       "      <td>4740.287150</td>\n",
       "    </tr>\n",
       "    <tr>\n",
       "      <th>50%</th>\n",
       "      <td>39.000000</td>\n",
       "      <td>30.400000</td>\n",
       "      <td>1.000000</td>\n",
       "      <td>9382.033000</td>\n",
       "    </tr>\n",
       "    <tr>\n",
       "      <th>75%</th>\n",
       "      <td>51.000000</td>\n",
       "      <td>34.693750</td>\n",
       "      <td>2.000000</td>\n",
       "      <td>16639.912515</td>\n",
       "    </tr>\n",
       "    <tr>\n",
       "      <th>max</th>\n",
       "      <td>190.000000</td>\n",
       "      <td>53.130000</td>\n",
       "      <td>5.000000</td>\n",
       "      <td>63770.428010</td>\n",
       "    </tr>\n",
       "  </tbody>\n",
       "</table>\n",
       "</div>"
      ],
      "text/plain": [
       "               age          bmi     children       charges\n",
       "count  1338.000000  1338.000000  1338.000000   1338.000000\n",
       "mean     39.133782    30.663397     1.094918  13270.422265\n",
       "std      14.958658     6.098187     1.205493  12110.011237\n",
       "min     -58.000000    15.960000     0.000000   1121.873900\n",
       "25%      26.000000    26.296250     0.000000   4740.287150\n",
       "50%      39.000000    30.400000     1.000000   9382.033000\n",
       "75%      51.000000    34.693750     2.000000  16639.912515\n",
       "max     190.000000    53.130000     5.000000  63770.428010"
      ]
     },
     "execution_count": 8,
     "metadata": {},
     "output_type": "execute_result"
    }
   ],
   "source": [
    "#data \n",
    "df.describe()"
   ]
  },
  {
   "cell_type": "code",
   "execution_count": 9,
   "id": "88704e3a",
   "metadata": {},
   "outputs": [],
   "source": [
    "#here we can see minimum age and maximum age ,age can not be -ve and also 190"
   ]
  },
  {
   "cell_type": "code",
   "execution_count": 10,
   "id": "e7c7e2b6",
   "metadata": {},
   "outputs": [
    {
     "data": {
      "text/html": [
       "<div>\n",
       "<style scoped>\n",
       "    .dataframe tbody tr th:only-of-type {\n",
       "        vertical-align: middle;\n",
       "    }\n",
       "\n",
       "    .dataframe tbody tr th {\n",
       "        vertical-align: top;\n",
       "    }\n",
       "\n",
       "    .dataframe thead th {\n",
       "        text-align: right;\n",
       "    }\n",
       "</style>\n",
       "<table border=\"1\" class=\"dataframe\">\n",
       "  <thead>\n",
       "    <tr style=\"text-align: right;\">\n",
       "      <th></th>\n",
       "      <th>age</th>\n",
       "      <th>sex</th>\n",
       "      <th>bmi</th>\n",
       "      <th>classif</th>\n",
       "      <th>children</th>\n",
       "      <th>smoker</th>\n",
       "      <th>region</th>\n",
       "      <th>charges</th>\n",
       "    </tr>\n",
       "  </thead>\n",
       "  <tbody>\n",
       "    <tr>\n",
       "      <th>116</th>\n",
       "      <td>-58</td>\n",
       "      <td>male</td>\n",
       "      <td>49.060</td>\n",
       "      <td>OB3</td>\n",
       "      <td>0</td>\n",
       "      <td>no</td>\n",
       "      <td>southeast</td>\n",
       "      <td>11381.32540</td>\n",
       "    </tr>\n",
       "    <tr>\n",
       "      <th>565</th>\n",
       "      <td>190</td>\n",
       "      <td>female</td>\n",
       "      <td>30.495</td>\n",
       "      <td>OB1</td>\n",
       "      <td>0</td>\n",
       "      <td>no</td>\n",
       "      <td>northwest</td>\n",
       "      <td>2128.43105</td>\n",
       "    </tr>\n",
       "    <tr>\n",
       "      <th>1337</th>\n",
       "      <td>-1</td>\n",
       "      <td>female</td>\n",
       "      <td>29.070</td>\n",
       "      <td>PREO</td>\n",
       "      <td>0</td>\n",
       "      <td>yes</td>\n",
       "      <td>northwest</td>\n",
       "      <td>29141.36030</td>\n",
       "    </tr>\n",
       "  </tbody>\n",
       "</table>\n",
       "</div>"
      ],
      "text/plain": [
       "      age     sex     bmi classif  children smoker     region      charges\n",
       "116   -58    male  49.060     OB3         0     no  southeast  11381.32540\n",
       "565   190  female  30.495     OB1         0     no  northwest   2128.43105\n",
       "1337   -1  female  29.070    PREO         0    yes  northwest  29141.36030"
      ]
     },
     "execution_count": 10,
     "metadata": {},
     "output_type": "execute_result"
    }
   ],
   "source": [
    "#chack -ve age\n",
    "df[(df['age']<0) | ( df['age']>100)]"
   ]
  },
  {
   "cell_type": "code",
   "execution_count": 11,
   "id": "b4d1e1ba",
   "metadata": {},
   "outputs": [],
   "source": [
    "# here we can see that two -ve age first -58 and second is -1 \n",
    "# age 190 its not possible\n",
    "# change the age by mean"
   ]
  },
  {
   "cell_type": "code",
   "execution_count": 12,
   "id": "77117183",
   "metadata": {},
   "outputs": [],
   "source": [
    "df.age.replace(-58,39,inplace=True)\n",
    "df.age.replace(-1,39,inplace=True)\n",
    "df.age.replace(190,39,inplace=True)"
   ]
  },
  {
   "cell_type": "code",
   "execution_count": 13,
   "id": "fced5db9",
   "metadata": {},
   "outputs": [
    {
     "data": {
      "text/html": [
       "<div>\n",
       "<style scoped>\n",
       "    .dataframe tbody tr th:only-of-type {\n",
       "        vertical-align: middle;\n",
       "    }\n",
       "\n",
       "    .dataframe tbody tr th {\n",
       "        vertical-align: top;\n",
       "    }\n",
       "\n",
       "    .dataframe thead th {\n",
       "        text-align: right;\n",
       "    }\n",
       "</style>\n",
       "<table border=\"1\" class=\"dataframe\">\n",
       "  <thead>\n",
       "    <tr style=\"text-align: right;\">\n",
       "      <th></th>\n",
       "      <th>age</th>\n",
       "      <th>sex</th>\n",
       "      <th>bmi</th>\n",
       "      <th>classif</th>\n",
       "      <th>children</th>\n",
       "      <th>smoker</th>\n",
       "      <th>region</th>\n",
       "      <th>charges</th>\n",
       "    </tr>\n",
       "  </thead>\n",
       "  <tbody>\n",
       "  </tbody>\n",
       "</table>\n",
       "</div>"
      ],
      "text/plain": [
       "Empty DataFrame\n",
       "Columns: [age, sex, bmi, classif, children, smoker, region, charges]\n",
       "Index: []"
      ]
     },
     "execution_count": 13,
     "metadata": {},
     "output_type": "execute_result"
    }
   ],
   "source": [
    "#chack data again\n",
    "df[(df['age']<0) | ( df['age']>100)]"
   ]
  },
  {
   "cell_type": "code",
   "execution_count": 14,
   "id": "2633ad34",
   "metadata": {},
   "outputs": [
    {
     "data": {
      "text/html": [
       "<div>\n",
       "<style scoped>\n",
       "    .dataframe tbody tr th:only-of-type {\n",
       "        vertical-align: middle;\n",
       "    }\n",
       "\n",
       "    .dataframe tbody tr th {\n",
       "        vertical-align: top;\n",
       "    }\n",
       "\n",
       "    .dataframe thead th {\n",
       "        text-align: right;\n",
       "    }\n",
       "</style>\n",
       "<table border=\"1\" class=\"dataframe\">\n",
       "  <thead>\n",
       "    <tr style=\"text-align: right;\">\n",
       "      <th></th>\n",
       "      <th>age</th>\n",
       "      <th>bmi</th>\n",
       "      <th>children</th>\n",
       "      <th>charges</th>\n",
       "    </tr>\n",
       "  </thead>\n",
       "  <tbody>\n",
       "    <tr>\n",
       "      <th>count</th>\n",
       "      <td>1338.000000</td>\n",
       "      <td>1338.000000</td>\n",
       "      <td>1338.000000</td>\n",
       "      <td>1338.000000</td>\n",
       "    </tr>\n",
       "    <tr>\n",
       "      <th>mean</th>\n",
       "      <td>39.123318</td>\n",
       "      <td>30.663397</td>\n",
       "      <td>1.094918</td>\n",
       "      <td>13270.422265</td>\n",
       "    </tr>\n",
       "    <tr>\n",
       "      <th>std</th>\n",
       "      <td>14.088157</td>\n",
       "      <td>6.098187</td>\n",
       "      <td>1.205493</td>\n",
       "      <td>12110.011237</td>\n",
       "    </tr>\n",
       "    <tr>\n",
       "      <th>min</th>\n",
       "      <td>0.000000</td>\n",
       "      <td>15.960000</td>\n",
       "      <td>0.000000</td>\n",
       "      <td>1121.873900</td>\n",
       "    </tr>\n",
       "    <tr>\n",
       "      <th>25%</th>\n",
       "      <td>26.250000</td>\n",
       "      <td>26.296250</td>\n",
       "      <td>0.000000</td>\n",
       "      <td>4740.287150</td>\n",
       "    </tr>\n",
       "    <tr>\n",
       "      <th>50%</th>\n",
       "      <td>39.000000</td>\n",
       "      <td>30.400000</td>\n",
       "      <td>1.000000</td>\n",
       "      <td>9382.033000</td>\n",
       "    </tr>\n",
       "    <tr>\n",
       "      <th>75%</th>\n",
       "      <td>51.000000</td>\n",
       "      <td>34.693750</td>\n",
       "      <td>2.000000</td>\n",
       "      <td>16639.912515</td>\n",
       "    </tr>\n",
       "    <tr>\n",
       "      <th>max</th>\n",
       "      <td>64.000000</td>\n",
       "      <td>53.130000</td>\n",
       "      <td>5.000000</td>\n",
       "      <td>63770.428010</td>\n",
       "    </tr>\n",
       "  </tbody>\n",
       "</table>\n",
       "</div>"
      ],
      "text/plain": [
       "               age          bmi     children       charges\n",
       "count  1338.000000  1338.000000  1338.000000   1338.000000\n",
       "mean     39.123318    30.663397     1.094918  13270.422265\n",
       "std      14.088157     6.098187     1.205493  12110.011237\n",
       "min       0.000000    15.960000     0.000000   1121.873900\n",
       "25%      26.250000    26.296250     0.000000   4740.287150\n",
       "50%      39.000000    30.400000     1.000000   9382.033000\n",
       "75%      51.000000    34.693750     2.000000  16639.912515\n",
       "max      64.000000    53.130000     5.000000  63770.428010"
      ]
     },
     "execution_count": 14,
     "metadata": {},
     "output_type": "execute_result"
    }
   ],
   "source": [
    "#describe the data(descriptive statistical measures )\n",
    "df.describe()"
   ]
  },
  {
   "cell_type": "code",
   "execution_count": null,
   "id": "d94f2c2c",
   "metadata": {},
   "outputs": [],
   "source": []
  },
  {
   "cell_type": "code",
   "execution_count": 15,
   "id": "0d2754ed",
   "metadata": {},
   "outputs": [],
   "source": [
    "# replce null value by OB1\n",
    "df.classif.fillna(df.classif.mode()[0], inplace=True)"
   ]
  },
  {
   "cell_type": "code",
   "execution_count": 16,
   "id": "9c739bed",
   "metadata": {},
   "outputs": [
    {
     "data": {
      "text/plain": [
       "age         0\n",
       "sex         0\n",
       "bmi         0\n",
       "classif     0\n",
       "children    0\n",
       "smoker      0\n",
       "region      0\n",
       "charges     0\n",
       "dtype: int64"
      ]
     },
     "execution_count": 16,
     "metadata": {},
     "output_type": "execute_result"
    }
   ],
   "source": [
    "#check missing value again\n",
    "df.isnull().sum()"
   ]
  },
  {
   "cell_type": "code",
   "execution_count": 17,
   "id": "465ed5fc",
   "metadata": {},
   "outputs": [],
   "source": [
    "# create new columns weight_status\n",
    "df['weight_status'] = np.where(df['bmi'] < 18.000, 'underweigth',\n",
    "                               np.where(df['bmi'] < 25.000, 'normal',\n",
    "                                       np.where(df['bmi'] < 30.000, 'overweight','obese')))\n",
    "df.drop('classif',inplace=True,axis=1)"
   ]
  },
  {
   "cell_type": "code",
   "execution_count": 18,
   "id": "2bf3f1cf",
   "metadata": {},
   "outputs": [
    {
     "data": {
      "text/html": [
       "<div>\n",
       "<style scoped>\n",
       "    .dataframe tbody tr th:only-of-type {\n",
       "        vertical-align: middle;\n",
       "    }\n",
       "\n",
       "    .dataframe tbody tr th {\n",
       "        vertical-align: top;\n",
       "    }\n",
       "\n",
       "    .dataframe thead th {\n",
       "        text-align: right;\n",
       "    }\n",
       "</style>\n",
       "<table border=\"1\" class=\"dataframe\">\n",
       "  <thead>\n",
       "    <tr style=\"text-align: right;\">\n",
       "      <th></th>\n",
       "      <th>age</th>\n",
       "      <th>sex</th>\n",
       "      <th>bmi</th>\n",
       "      <th>children</th>\n",
       "      <th>smoker</th>\n",
       "      <th>region</th>\n",
       "      <th>charges</th>\n",
       "      <th>weight_status</th>\n",
       "      <th>Age Group</th>\n",
       "    </tr>\n",
       "  </thead>\n",
       "  <tbody>\n",
       "    <tr>\n",
       "      <th>0</th>\n",
       "      <td>19</td>\n",
       "      <td>female</td>\n",
       "      <td>27.900</td>\n",
       "      <td>0</td>\n",
       "      <td>yes</td>\n",
       "      <td>southwest</td>\n",
       "      <td>16884.92400</td>\n",
       "      <td>overweight</td>\n",
       "      <td>0-20</td>\n",
       "    </tr>\n",
       "    <tr>\n",
       "      <th>1</th>\n",
       "      <td>18</td>\n",
       "      <td>male</td>\n",
       "      <td>33.770</td>\n",
       "      <td>1</td>\n",
       "      <td>no</td>\n",
       "      <td>southeast</td>\n",
       "      <td>1725.55230</td>\n",
       "      <td>obese</td>\n",
       "      <td>0-20</td>\n",
       "    </tr>\n",
       "    <tr>\n",
       "      <th>2</th>\n",
       "      <td>28</td>\n",
       "      <td>male</td>\n",
       "      <td>33.000</td>\n",
       "      <td>3</td>\n",
       "      <td>no</td>\n",
       "      <td>southeast</td>\n",
       "      <td>4449.46200</td>\n",
       "      <td>obese</td>\n",
       "      <td>21-30</td>\n",
       "    </tr>\n",
       "    <tr>\n",
       "      <th>3</th>\n",
       "      <td>0</td>\n",
       "      <td>male</td>\n",
       "      <td>22.705</td>\n",
       "      <td>0</td>\n",
       "      <td>no</td>\n",
       "      <td>northwest</td>\n",
       "      <td>21984.47061</td>\n",
       "      <td>normal</td>\n",
       "      <td>0-20</td>\n",
       "    </tr>\n",
       "    <tr>\n",
       "      <th>4</th>\n",
       "      <td>32</td>\n",
       "      <td>male</td>\n",
       "      <td>28.880</td>\n",
       "      <td>0</td>\n",
       "      <td>no</td>\n",
       "      <td>northwest</td>\n",
       "      <td>3866.85520</td>\n",
       "      <td>overweight</td>\n",
       "      <td>31-40</td>\n",
       "    </tr>\n",
       "  </tbody>\n",
       "</table>\n",
       "</div>"
      ],
      "text/plain": [
       "   age     sex     bmi  children smoker     region      charges weight_status  \\\n",
       "0   19  female  27.900         0    yes  southwest  16884.92400    overweight   \n",
       "1   18    male  33.770         1     no  southeast   1725.55230         obese   \n",
       "2   28    male  33.000         3     no  southeast   4449.46200         obese   \n",
       "3    0    male  22.705         0     no  northwest  21984.47061        normal   \n",
       "4   32    male  28.880         0     no  northwest   3866.85520    overweight   \n",
       "\n",
       "  Age Group  \n",
       "0      0-20  \n",
       "1      0-20  \n",
       "2     21-30  \n",
       "3      0-20  \n",
       "4     31-40  "
      ]
     },
     "execution_count": 18,
     "metadata": {},
     "output_type": "execute_result"
    }
   ],
   "source": [
    "df['Age Group'] = pd.cut(\n",
    "    df['age'], \n",
    "    [-1, 20,30,40,50, 60, 70], \n",
    "    labels=['0-20', '21-30', '31-40','41-50','51-60','61-70']\n",
    ")\n",
    "df.drop(df.columns[8], axis=1)\n",
    "df.head()"
   ]
  },
  {
   "cell_type": "code",
   "execution_count": 19,
   "id": "531aaf7d",
   "metadata": {},
   "outputs": [],
   "source": [
    "df=df.drop_duplicates()"
   ]
  },
  {
   "cell_type": "code",
   "execution_count": 20,
   "id": "0674e6e4",
   "metadata": {},
   "outputs": [
    {
     "data": {
      "text/plain": [
       "(1337, 9)"
      ]
     },
     "execution_count": 20,
     "metadata": {},
     "output_type": "execute_result"
    }
   ],
   "source": [
    "# onely one duplicate value exist now which is removed\n",
    "df.shape"
   ]
  },
  {
   "cell_type": "code",
   "execution_count": 21,
   "id": "703bb0a3",
   "metadata": {},
   "outputs": [
    {
     "data": {
      "text/plain": [
       "age              0\n",
       "sex              0\n",
       "bmi              0\n",
       "children         0\n",
       "smoker           0\n",
       "region           0\n",
       "charges          0\n",
       "weight_status    0\n",
       "Age Group        0\n",
       "dtype: int64"
      ]
     },
     "execution_count": 21,
     "metadata": {},
     "output_type": "execute_result"
    }
   ],
   "source": [
    "#check missing value\n",
    "df.isnull().sum()"
   ]
  },
  {
   "cell_type": "code",
   "execution_count": 22,
   "id": "e3d645b2",
   "metadata": {},
   "outputs": [],
   "source": [
    "#no missing value"
   ]
  },
  {
   "cell_type": "code",
   "execution_count": 23,
   "id": "7ce30eb5",
   "metadata": {},
   "outputs": [
    {
     "data": {
      "text/plain": [
       "obese          706\n",
       "overweight     386\n",
       "normal         230\n",
       "underweigth     15\n",
       "Name: weight_status, dtype: int64"
      ]
     },
     "execution_count": 23,
     "metadata": {},
     "output_type": "execute_result"
    }
   ],
   "source": [
    "df.weight_status.value_counts()"
   ]
  },
  {
   "cell_type": "markdown",
   "id": "0e7d9b3f",
   "metadata": {},
   "source": [
    "### EDA-EXPLORATORY DATA ANALYSIS"
   ]
  },
  {
   "cell_type": "code",
   "execution_count": 24,
   "id": "c975464f",
   "metadata": {},
   "outputs": [
    {
     "data": {
      "text/plain": [
       "<AxesSubplot:xlabel='sex', ylabel='count'>"
      ]
     },
     "execution_count": 24,
     "metadata": {},
     "output_type": "execute_result"
    },
    {
     "data": {
      "image/png": "[encoded data removed]",
      "text/plain": [
       "<Figure size 432x288 with 1 Axes>"
      ]
     },
     "metadata": {
      "needs_background": "light"
     },
     "output_type": "display_data"
    }
   ],
   "source": [
    "sns.countplot(x = 'sex', data = df)"
   ]
  },
  {
   "cell_type": "code",
   "execution_count": 25,
   "id": "8bacde30",
   "metadata": {},
   "outputs": [],
   "source": [
    "#The graph shows that the number of male and female is almost equal."
   ]
  },
  {
   "cell_type": "code",
   "execution_count": 26,
   "id": "5b5b1a1f",
   "metadata": {},
   "outputs": [
    {
     "data": {
      "text/plain": [
       "<AxesSubplot:xlabel='children', ylabel='count'>"
      ]
     },
     "execution_count": 26,
     "metadata": {},
     "output_type": "execute_result"
    },
    {
     "data": {
      "image/png": "[encoded data removed]",
      "text/plain": [
       "<Figure size 432x288 with 1 Axes>"
      ]
     },
     "metadata": {
      "needs_background": "light"
     },
     "output_type": "display_data"
    }
   ],
   "source": [
    "sns.countplot(x = 'children', data = df)"
   ]
  },
  {
   "cell_type": "code",
   "execution_count": 27,
   "id": "75cf422a",
   "metadata": {},
   "outputs": [],
   "source": [
    "#we can see in graph, there are more number of people with no children. \n",
    "#Then there are people having 1-3 children and there are very less people having 4-5 children."
   ]
  },
  {
   "cell_type": "code",
   "execution_count": 28,
   "id": "2f1d07e5",
   "metadata": {},
   "outputs": [
    {
     "data": {
      "text/plain": [
       "<AxesSubplot:xlabel='smoker', ylabel='count'>"
      ]
     },
     "execution_count": 28,
     "metadata": {},
     "output_type": "execute_result"
    },
    {
     "data": {
      "image/png": "[encoded data removed]",
      "text/plain": [
       "<Figure size 432x288 with 1 Axes>"
      ]
     },
     "metadata": {
      "needs_background": "light"
     },
     "output_type": "display_data"
    }
   ],
   "source": [
    "# plot of smoker variable\n",
    "\n",
    "sns.countplot(x = 'smoker', data = df)"
   ]
  },
  {
   "cell_type": "code",
   "execution_count": 29,
   "id": "e94aaf31",
   "metadata": {},
   "outputs": [],
   "source": [
    "# there are more non-smokers than smokers."
   ]
  },
  {
   "cell_type": "code",
   "execution_count": 30,
   "id": "005e208b",
   "metadata": {},
   "outputs": [
    {
     "data": {
      "text/plain": [
       "<AxesSubplot:xlabel='Age Group', ylabel='count'>"
      ]
     },
     "execution_count": 30,
     "metadata": {},
     "output_type": "execute_result"
    },
    {
     "data": {
      "image/png": "[encoded data removed]",
      "text/plain": [
       "<Figure size 432x288 with 1 Axes>"
      ]
     },
     "metadata": {
      "needs_background": "light"
     },
     "output_type": "display_data"
    }
   ],
   "source": [
    "# plot of Age Group variable\n",
    "\n",
    "sns.countplot(x = 'Age Group', data = df)"
   ]
  },
  {
   "cell_type": "code",
   "execution_count": 31,
   "id": "174186a9",
   "metadata": {},
   "outputs": [],
   "source": [
    "#41-50 age group has maximum no. of people"
   ]
  },
  {
   "cell_type": "code",
   "execution_count": 32,
   "id": "9f319623",
   "metadata": {},
   "outputs": [
    {
     "data": {
      "image/png": "[encoded data removed]",
      "text/plain": [
       "<Figure size 360x360 with 1 Axes>"
      ]
     },
     "metadata": {
      "needs_background": "light"
     },
     "output_type": "display_data"
    }
   ],
   "source": [
    "# distribution of charges variable\n",
    "\n",
    "sns.displot(df['charges'])\n",
    "plt.title('Distribution of Charges')\n",
    "plt.show()"
   ]
  },
  {
   "cell_type": "code",
   "execution_count": 33,
   "id": "2598f587",
   "metadata": {},
   "outputs": [],
   "source": [
    "#the charges are most around 1000-20,000 dollars."
   ]
  },
  {
   "cell_type": "code",
   "execution_count": 34,
   "id": "9024c216",
   "metadata": {},
   "outputs": [
    {
     "data": {
      "image/png": "[encoded data removed]",
      "text/plain": [
       "<Figure size 432x288 with 1 Axes>"
      ]
     },
     "metadata": {
      "needs_background": "light"
     },
     "output_type": "display_data"
    }
   ],
   "source": [
    "sns.barplot(x='Age Group',y='charges',data=df,ci=None)\n",
    "plt.show()"
   ]
  },
  {
   "cell_type": "code",
   "execution_count": 35,
   "id": "cdb53654",
   "metadata": {},
   "outputs": [],
   "source": [
    "#Older people have more expensive charges\n"
   ]
  },
  {
   "cell_type": "code",
   "execution_count": 36,
   "id": "f171f45e",
   "metadata": {},
   "outputs": [
    {
     "data": {
      "text/plain": [
       "<seaborn.axisgrid.FacetGrid at 0x2358b434c40>"
      ]
     },
     "execution_count": 36,
     "metadata": {},
     "output_type": "execute_result"
    },
    {
     "data": {
      "image/png": "[encoded data removed]",
      "text/plain": [
       "<Figure size 1493.25x360 with 1 Axes>"
      ]
     },
     "metadata": {
      "needs_background": "light"
     },
     "output_type": "display_data"
    }
   ],
   "source": [
    "#Barplot Charges per Region\n",
    "\n",
    "sns.catplot(data=df, x='weight_status',hue='smoker', kind= 'count', aspect=4, palette='Paired')"
   ]
  },
  {
   "cell_type": "code",
   "execution_count": 37,
   "id": "f8bc3769",
   "metadata": {},
   "outputs": [],
   "source": [
    "#Most people are a non smokers & obese"
   ]
  },
  {
   "cell_type": "code",
   "execution_count": 38,
   "id": "2664ee54",
   "metadata": {},
   "outputs": [
    {
     "data": {
      "text/plain": [
       "<seaborn.axisgrid.FacetGrid at 0x2358b478700>"
      ]
     },
     "execution_count": 38,
     "metadata": {},
     "output_type": "execute_result"
    },
    {
     "data": {
      "image/png": "[encoded data removed]",
      "text/plain": [
       "<Figure size 1798.5x432 with 1 Axes>"
      ]
     },
     "metadata": {
      "needs_background": "light"
     },
     "output_type": "display_data"
    }
   ],
   "source": [
    "sns.catplot(data=df, x='region',hue='sex', kind= 'count',size=6, aspect=4, palette='Paired')"
   ]
  },
  {
   "cell_type": "code",
   "execution_count": 39,
   "id": "d1662a23",
   "metadata": {},
   "outputs": [],
   "source": [
    "# this graph show that region wise sex,southwest male has high no. of people "
   ]
  },
  {
   "cell_type": "code",
   "execution_count": 40,
   "id": "518acf11",
   "metadata": {},
   "outputs": [
    {
     "data": {
      "text/plain": [
       "<AxesSubplot:xlabel='children', ylabel='charges'>"
      ]
     },
     "execution_count": 40,
     "metadata": {},
     "output_type": "execute_result"
    },
    {
     "data": {
      "image/png": "[encoded data removed]",
      "text/plain": [
       "<Figure size 432x288 with 1 Axes>"
      ]
     },
     "metadata": {
      "needs_background": "light"
     },
     "output_type": "display_data"
    }
   ],
   "source": [
    "#Barplot Charges per Region\n",
    "sns.barplot(x = 'children', y ='charges',data=df,ci=None)"
   ]
  },
  {
   "cell_type": "code",
   "execution_count": 41,
   "id": "0cfff556",
   "metadata": {},
   "outputs": [],
   "source": [
    "#Figure shows the impact of the number of children on charges."
   ]
  },
  {
   "cell_type": "code",
   "execution_count": 42,
   "id": "0072b104",
   "metadata": {},
   "outputs": [],
   "source": [
    "region_charges = df.groupby(['region']).sum().reset_index()\n"
   ]
  },
  {
   "cell_type": "code",
   "execution_count": 43,
   "id": "7257d064",
   "metadata": {},
   "outputs": [
    {
     "data": {
      "text/plain": [
       "<AxesSubplot:xlabel='region', ylabel='charges'>"
      ]
     },
     "execution_count": 43,
     "metadata": {},
     "output_type": "execute_result"
    },
    {
     "data": {
      "image/png": "[encoded data removed]",
      "text/plain": [
       "<Figure size 432x288 with 1 Axes>"
      ]
     },
     "metadata": {
      "needs_background": "light"
     },
     "output_type": "display_data"
    }
   ],
   "source": [
    "#Barplot Charges per Region\n",
    "sns.barplot(x = 'region', y ='charges',data=region_charges)"
   ]
  },
  {
   "cell_type": "code",
   "execution_count": 44,
   "id": "440be662",
   "metadata": {},
   "outputs": [],
   "source": [
    "#southeast people has high charges"
   ]
  },
  {
   "cell_type": "code",
   "execution_count": 45,
   "id": "d32a1a2d",
   "metadata": {},
   "outputs": [
    {
     "data": {
      "text/plain": [
       "<AxesSubplot:xlabel='sex', ylabel='charges'>"
      ]
     },
     "execution_count": 45,
     "metadata": {},
     "output_type": "execute_result"
    },
    {
     "data": {
      "image/png": "[encoded data removed]",
      "text/plain": [
       "<Figure size 432x288 with 1 Axes>"
      ]
     },
     "metadata": {
      "needs_background": "light"
     },
     "output_type": "display_data"
    }
   ],
   "source": [
    " \n",
    "sns.barplot(x = 'sex', y ='charges',data=df,ci=None)"
   ]
  },
  {
   "cell_type": "code",
   "execution_count": 46,
   "id": "830a4dd0",
   "metadata": {},
   "outputs": [
    {
     "data": {
      "text/plain": [
       "<AxesSubplot:xlabel='weight_status', ylabel='charges'>"
      ]
     },
     "execution_count": 46,
     "metadata": {},
     "output_type": "execute_result"
    },
    {
     "data": {
      "image/png": "[encoded data removed]",
      "text/plain": [
       "<Figure size 432x288 with 1 Axes>"
      ]
     },
     "metadata": {
      "needs_background": "light"
     },
     "output_type": "display_data"
    }
   ],
   "source": [
    "#Barplot Smoker_Status_Charges\n",
    "sns.barplot(x = 'weight_status', y = 'charges', hue = 'smoker', data = df,ci=None)"
   ]
  },
  {
   "cell_type": "code",
   "execution_count": 47,
   "id": "a8de8065",
   "metadata": {},
   "outputs": [
    {
     "data": {
      "text/plain": [
       "<AxesSubplot:xlabel='region', ylabel='charges'>"
      ]
     },
     "execution_count": 47,
     "metadata": {},
     "output_type": "execute_result"
    },
    {
     "data": {
      "image/png": "[encoded data removed]",
      "text/plain": [
       "<Figure size 432x288 with 1 Axes>"
      ]
     },
     "metadata": {
      "needs_background": "light"
     },
     "output_type": "display_data"
    }
   ],
   "source": [
    "#Barplot Smoker_Status_Charges\n",
    "sns.barplot(x = 'region', y = 'charges', hue = 'sex', data = df,ci=None)"
   ]
  },
  {
   "cell_type": "code",
   "execution_count": null,
   "id": "5872f72f",
   "metadata": {},
   "outputs": [],
   "source": []
  },
  {
   "cell_type": "code",
   "execution_count": null,
   "id": "f7e908ae",
   "metadata": {},
   "outputs": [],
   "source": []
  },
  {
   "cell_type": "markdown",
   "id": "9ea17c02",
   "metadata": {},
   "source": [
    "#### Conclusion from graph"
   ]
  },
  {
   "cell_type": "raw",
   "id": "87d61707",
   "metadata": {},
   "source": [
    "Most people are a non smokers & obese\n",
    "Feature sex, region has an almost balanced amount\n",
    "Older people have more expensive charges\n",
    "People who smoke & have a higher BMI, has higher charges\n",
    "Older people who smoke have more expensive charges\n",
    "An obese person who smokes have higher charges\n",
    "Male population has higher charges\n",
    "The population in southest region has higher charges"
   ]
  },
  {
   "cell_type": "code",
   "execution_count": 48,
   "id": "c998b5a3",
   "metadata": {},
   "outputs": [
    {
     "data": {
      "text/html": [
       "<div>\n",
       "<style scoped>\n",
       "    .dataframe tbody tr th:only-of-type {\n",
       "        vertical-align: middle;\n",
       "    }\n",
       "\n",
       "    .dataframe tbody tr th {\n",
       "        vertical-align: top;\n",
       "    }\n",
       "\n",
       "    .dataframe thead th {\n",
       "        text-align: right;\n",
       "    }\n",
       "</style>\n",
       "<table border=\"1\" class=\"dataframe\">\n",
       "  <thead>\n",
       "    <tr style=\"text-align: right;\">\n",
       "      <th></th>\n",
       "      <th>age</th>\n",
       "      <th>sex</th>\n",
       "      <th>bmi</th>\n",
       "      <th>children</th>\n",
       "      <th>smoker</th>\n",
       "      <th>region</th>\n",
       "      <th>charges</th>\n",
       "      <th>weight_status</th>\n",
       "      <th>Age Group</th>\n",
       "    </tr>\n",
       "  </thead>\n",
       "  <tbody>\n",
       "    <tr>\n",
       "      <th>0</th>\n",
       "      <td>19</td>\n",
       "      <td>female</td>\n",
       "      <td>27.900</td>\n",
       "      <td>0</td>\n",
       "      <td>yes</td>\n",
       "      <td>southwest</td>\n",
       "      <td>16884.92400</td>\n",
       "      <td>overweight</td>\n",
       "      <td>0-20</td>\n",
       "    </tr>\n",
       "    <tr>\n",
       "      <th>1</th>\n",
       "      <td>18</td>\n",
       "      <td>male</td>\n",
       "      <td>33.770</td>\n",
       "      <td>1</td>\n",
       "      <td>no</td>\n",
       "      <td>southeast</td>\n",
       "      <td>1725.55230</td>\n",
       "      <td>obese</td>\n",
       "      <td>0-20</td>\n",
       "    </tr>\n",
       "    <tr>\n",
       "      <th>2</th>\n",
       "      <td>28</td>\n",
       "      <td>male</td>\n",
       "      <td>33.000</td>\n",
       "      <td>3</td>\n",
       "      <td>no</td>\n",
       "      <td>southeast</td>\n",
       "      <td>4449.46200</td>\n",
       "      <td>obese</td>\n",
       "      <td>21-30</td>\n",
       "    </tr>\n",
       "    <tr>\n",
       "      <th>3</th>\n",
       "      <td>0</td>\n",
       "      <td>male</td>\n",
       "      <td>22.705</td>\n",
       "      <td>0</td>\n",
       "      <td>no</td>\n",
       "      <td>northwest</td>\n",
       "      <td>21984.47061</td>\n",
       "      <td>normal</td>\n",
       "      <td>0-20</td>\n",
       "    </tr>\n",
       "    <tr>\n",
       "      <th>4</th>\n",
       "      <td>32</td>\n",
       "      <td>male</td>\n",
       "      <td>28.880</td>\n",
       "      <td>0</td>\n",
       "      <td>no</td>\n",
       "      <td>northwest</td>\n",
       "      <td>3866.85520</td>\n",
       "      <td>overweight</td>\n",
       "      <td>31-40</td>\n",
       "    </tr>\n",
       "  </tbody>\n",
       "</table>\n",
       "</div>"
      ],
      "text/plain": [
       "   age     sex     bmi  children smoker     region      charges weight_status  \\\n",
       "0   19  female  27.900         0    yes  southwest  16884.92400    overweight   \n",
       "1   18    male  33.770         1     no  southeast   1725.55230         obese   \n",
       "2   28    male  33.000         3     no  southeast   4449.46200         obese   \n",
       "3    0    male  22.705         0     no  northwest  21984.47061        normal   \n",
       "4   32    male  28.880         0     no  northwest   3866.85520    overweight   \n",
       "\n",
       "  Age Group  \n",
       "0      0-20  \n",
       "1      0-20  \n",
       "2     21-30  \n",
       "3      0-20  \n",
       "4     31-40  "
      ]
     },
     "execution_count": 48,
     "metadata": {},
     "output_type": "execute_result"
    }
   ],
   "source": [
    "df.head()"
   ]
  },
  {
   "cell_type": "code",
   "execution_count": 49,
   "id": "f7b8b145",
   "metadata": {},
   "outputs": [
    {
     "data": {
      "text/plain": [
       "age                 int64\n",
       "sex                object\n",
       "bmi               float64\n",
       "children            int64\n",
       "smoker             object\n",
       "region             object\n",
       "charges           float64\n",
       "weight_status      object\n",
       "Age Group        category\n",
       "dtype: object"
      ]
     },
     "execution_count": 49,
     "metadata": {},
     "output_type": "execute_result"
    }
   ],
   "source": [
    "df.dtypes"
   ]
  },
  {
   "cell_type": "markdown",
   "id": "25307e01",
   "metadata": {},
   "source": [
    "### Use Label Encoder technique to convert categorical column into numerical type"
   ]
  },
  {
   "cell_type": "code",
   "execution_count": 50,
   "id": "b59e5a71",
   "metadata": {},
   "outputs": [],
   "source": [
    "df1=df.copy()\n",
    "df1.drop(df1.columns[[8]],axis=1,inplace=True)\n",
    "from sklearn import preprocessing\n",
    "label_encoder=preprocessing.LabelEncoder()\n",
    "df1['sex']=label_encoder.fit_transform(df1['sex'])\n",
    "df1['smoker']=label_encoder.fit_transform(df1['smoker'])\n",
    "df1['region']=label_encoder.fit_transform(df1['region'])\n",
    "df1['weight_status']=label_encoder.fit_transform(df1['weight_status'])\n"
   ]
  },
  {
   "cell_type": "code",
   "execution_count": 51,
   "id": "a707e673",
   "metadata": {},
   "outputs": [
    {
     "data": {
      "text/html": [
       "<div>\n",
       "<style scoped>\n",
       "    .dataframe tbody tr th:only-of-type {\n",
       "        vertical-align: middle;\n",
       "    }\n",
       "\n",
       "    .dataframe tbody tr th {\n",
       "        vertical-align: top;\n",
       "    }\n",
       "\n",
       "    .dataframe thead th {\n",
       "        text-align: right;\n",
       "    }\n",
       "</style>\n",
       "<table border=\"1\" class=\"dataframe\">\n",
       "  <thead>\n",
       "    <tr style=\"text-align: right;\">\n",
       "      <th></th>\n",
       "      <th>age</th>\n",
       "      <th>sex</th>\n",
       "      <th>bmi</th>\n",
       "      <th>children</th>\n",
       "      <th>smoker</th>\n",
       "      <th>region</th>\n",
       "      <th>charges</th>\n",
       "      <th>weight_status</th>\n",
       "    </tr>\n",
       "  </thead>\n",
       "  <tbody>\n",
       "    <tr>\n",
       "      <th>0</th>\n",
       "      <td>19</td>\n",
       "      <td>0</td>\n",
       "      <td>27.900</td>\n",
       "      <td>0</td>\n",
       "      <td>1</td>\n",
       "      <td>3</td>\n",
       "      <td>16884.92400</td>\n",
       "      <td>2</td>\n",
       "    </tr>\n",
       "    <tr>\n",
       "      <th>1</th>\n",
       "      <td>18</td>\n",
       "      <td>1</td>\n",
       "      <td>33.770</td>\n",
       "      <td>1</td>\n",
       "      <td>0</td>\n",
       "      <td>2</td>\n",
       "      <td>1725.55230</td>\n",
       "      <td>1</td>\n",
       "    </tr>\n",
       "    <tr>\n",
       "      <th>2</th>\n",
       "      <td>28</td>\n",
       "      <td>1</td>\n",
       "      <td>33.000</td>\n",
       "      <td>3</td>\n",
       "      <td>0</td>\n",
       "      <td>2</td>\n",
       "      <td>4449.46200</td>\n",
       "      <td>1</td>\n",
       "    </tr>\n",
       "    <tr>\n",
       "      <th>3</th>\n",
       "      <td>0</td>\n",
       "      <td>1</td>\n",
       "      <td>22.705</td>\n",
       "      <td>0</td>\n",
       "      <td>0</td>\n",
       "      <td>1</td>\n",
       "      <td>21984.47061</td>\n",
       "      <td>0</td>\n",
       "    </tr>\n",
       "    <tr>\n",
       "      <th>4</th>\n",
       "      <td>32</td>\n",
       "      <td>1</td>\n",
       "      <td>28.880</td>\n",
       "      <td>0</td>\n",
       "      <td>0</td>\n",
       "      <td>1</td>\n",
       "      <td>3866.85520</td>\n",
       "      <td>2</td>\n",
       "    </tr>\n",
       "  </tbody>\n",
       "</table>\n",
       "</div>"
      ],
      "text/plain": [
       "   age  sex     bmi  children  smoker  region      charges  weight_status\n",
       "0   19    0  27.900         0       1       3  16884.92400              2\n",
       "1   18    1  33.770         1       0       2   1725.55230              1\n",
       "2   28    1  33.000         3       0       2   4449.46200              1\n",
       "3    0    1  22.705         0       0       1  21984.47061              0\n",
       "4   32    1  28.880         0       0       1   3866.85520              2"
      ]
     },
     "execution_count": 51,
     "metadata": {},
     "output_type": "execute_result"
    }
   ],
   "source": [
    "df1.head()"
   ]
  },
  {
   "cell_type": "markdown",
   "id": "8a999979",
   "metadata": {},
   "source": [
    "#### Data scaling"
   ]
  },
  {
   "cell_type": "code",
   "execution_count": 52,
   "id": "2ebbbc35",
   "metadata": {},
   "outputs": [],
   "source": [
    "\n",
    "from sklearn.preprocessing import StandardScaler\n",
    "scaler=StandardScaler()\n",
    "df2=pd.DataFrame(scaler.fit_transform(df1),columns = df1.columns)\n"
   ]
  },
  {
   "cell_type": "code",
   "execution_count": 53,
   "id": "4615f9b8",
   "metadata": {},
   "outputs": [
    {
     "data": {
      "text/html": [
       "<div>\n",
       "<style scoped>\n",
       "    .dataframe tbody tr th:only-of-type {\n",
       "        vertical-align: middle;\n",
       "    }\n",
       "\n",
       "    .dataframe tbody tr th {\n",
       "        vertical-align: top;\n",
       "    }\n",
       "\n",
       "    .dataframe thead th {\n",
       "        text-align: right;\n",
       "    }\n",
       "</style>\n",
       "<table border=\"1\" class=\"dataframe\">\n",
       "  <thead>\n",
       "    <tr style=\"text-align: right;\">\n",
       "      <th></th>\n",
       "      <th>age</th>\n",
       "      <th>sex</th>\n",
       "      <th>bmi</th>\n",
       "      <th>children</th>\n",
       "      <th>smoker</th>\n",
       "      <th>region</th>\n",
       "      <th>charges</th>\n",
       "      <th>weight_status</th>\n",
       "    </tr>\n",
       "  </thead>\n",
       "  <tbody>\n",
       "    <tr>\n",
       "      <th>0</th>\n",
       "      <td>-1.430547</td>\n",
       "      <td>-1.009771</td>\n",
       "      <td>-0.453160</td>\n",
       "      <td>-0.909234</td>\n",
       "      <td>1.969660</td>\n",
       "      <td>1.343163</td>\n",
       "      <td>0.297857</td>\n",
       "      <td>1.234558</td>\n",
       "    </tr>\n",
       "    <tr>\n",
       "      <th>1</th>\n",
       "      <td>-1.501582</td>\n",
       "      <td>0.990324</td>\n",
       "      <td>0.509422</td>\n",
       "      <td>-0.079442</td>\n",
       "      <td>-0.507702</td>\n",
       "      <td>0.438017</td>\n",
       "      <td>-0.954381</td>\n",
       "      <td>-0.199503</td>\n",
       "    </tr>\n",
       "    <tr>\n",
       "      <th>2</th>\n",
       "      <td>-0.791224</td>\n",
       "      <td>0.990324</td>\n",
       "      <td>0.383155</td>\n",
       "      <td>1.580143</td>\n",
       "      <td>-0.507702</td>\n",
       "      <td>0.438017</td>\n",
       "      <td>-0.729373</td>\n",
       "      <td>-0.199503</td>\n",
       "    </tr>\n",
       "    <tr>\n",
       "      <th>3</th>\n",
       "      <td>-2.780228</td>\n",
       "      <td>0.990324</td>\n",
       "      <td>-1.305052</td>\n",
       "      <td>-0.909234</td>\n",
       "      <td>-0.507702</td>\n",
       "      <td>-0.467128</td>\n",
       "      <td>0.719104</td>\n",
       "      <td>-1.633564</td>\n",
       "    </tr>\n",
       "    <tr>\n",
       "      <th>4</th>\n",
       "      <td>-0.507080</td>\n",
       "      <td>0.990324</td>\n",
       "      <td>-0.292456</td>\n",
       "      <td>-0.909234</td>\n",
       "      <td>-0.507702</td>\n",
       "      <td>-0.467128</td>\n",
       "      <td>-0.777499</td>\n",
       "      <td>1.234558</td>\n",
       "    </tr>\n",
       "  </tbody>\n",
       "</table>\n",
       "</div>"
      ],
      "text/plain": [
       "        age       sex       bmi  children    smoker    region   charges  \\\n",
       "0 -1.430547 -1.009771 -0.453160 -0.909234  1.969660  1.343163  0.297857   \n",
       "1 -1.501582  0.990324  0.509422 -0.079442 -0.507702  0.438017 -0.954381   \n",
       "2 -0.791224  0.990324  0.383155  1.580143 -0.507702  0.438017 -0.729373   \n",
       "3 -2.780228  0.990324 -1.305052 -0.909234 -0.507702 -0.467128  0.719104   \n",
       "4 -0.507080  0.990324 -0.292456 -0.909234 -0.507702 -0.467128 -0.777499   \n",
       "\n",
       "   weight_status  \n",
       "0       1.234558  \n",
       "1      -0.199503  \n",
       "2      -0.199503  \n",
       "3      -1.633564  \n",
       "4       1.234558  "
      ]
     },
     "execution_count": 53,
     "metadata": {},
     "output_type": "execute_result"
    }
   ],
   "source": [
    "df2.head()"
   ]
  },
  {
   "cell_type": "code",
   "execution_count": 54,
   "id": "f9a26cf8",
   "metadata": {},
   "outputs": [],
   "source": [
    "x=df2.drop('charges',inplace=True,axis=1)\n",
    "\n"
   ]
  },
  {
   "cell_type": "code",
   "execution_count": 55,
   "id": "45361434",
   "metadata": {},
   "outputs": [],
   "source": [
    "x=df2\n",
    "y=df1.charges"
   ]
  },
  {
   "cell_type": "markdown",
   "id": "2e086301",
   "metadata": {},
   "source": [
    "### Spliting data"
   ]
  },
  {
   "cell_type": "code",
   "execution_count": 56,
   "id": "26c82868",
   "metadata": {},
   "outputs": [
    {
     "name": "stdout",
     "output_type": "stream",
     "text": [
      "(935, 7) (935,) (402, 7) (402,)\n"
     ]
    }
   ],
   "source": [
    "# split the data 70:30\n",
    "x_train,x_test,y_train,y_test=train_test_split(x,y,test_size=0.3,random_state=42)\n",
    "print(x_train.shape,y_train.shape,x_test.shape,y_test.shape)"
   ]
  },
  {
   "cell_type": "code",
   "execution_count": null,
   "id": "3db3cd88",
   "metadata": {},
   "outputs": [],
   "source": []
  },
  {
   "cell_type": "markdown",
   "id": "71122695",
   "metadata": {},
   "source": [
    "### Build a model to predict the insurance policy amount"
   ]
  },
  {
   "cell_type": "markdown",
   "id": "305f0daa",
   "metadata": {},
   "source": [
    "## Linear regression for all feature"
   ]
  },
  {
   "cell_type": "code",
   "execution_count": 57,
   "id": "2b026745",
   "metadata": {},
   "outputs": [],
   "source": [
    "lr=LinearRegression()\n",
    "lr.fit(x_train,y_train)\n",
    "pred1=lr.predict(x_test)"
   ]
  },
  {
   "cell_type": "code",
   "execution_count": 58,
   "id": "9eedb878",
   "metadata": {},
   "outputs": [
    {
     "data": {
      "text/plain": [
       "73.25"
      ]
     },
     "execution_count": 58,
     "metadata": {},
     "output_type": "execute_result"
    }
   ],
   "source": [
    "#evaluation\n",
    "score0=lr.score(x_train,y_train)\n",
    "score0=round(score0*100,2)\n",
    "score0"
   ]
  },
  {
   "cell_type": "code",
   "execution_count": 59,
   "id": "0421453a",
   "metadata": {},
   "outputs": [
    {
     "data": {
      "text/plain": [
       "77.29"
      ]
     },
     "execution_count": 59,
     "metadata": {},
     "output_type": "execute_result"
    }
   ],
   "source": [
    "score1=r2_score(y_test,pred1)\n",
    "score1=round(score1*100,2)\n",
    "score1"
   ]
  },
  {
   "cell_type": "code",
   "execution_count": 60,
   "id": "ecacd95c",
   "metadata": {},
   "outputs": [
    {
     "data": {
      "text/plain": [
       "(38853657.36, 6233.27, 4142.57)"
      ]
     },
     "execution_count": 60,
     "metadata": {},
     "output_type": "execute_result"
    }
   ],
   "source": [
    "#mse,mae and rmse value\n",
    "MSE1=round(mean_squared_error(y_test,pred1),2)\n",
    "RMSE1=round(mean_squared_error(y_test,pred1,squared=False),2)\n",
    "MAE1=round(mean_absolute_error(y_test,pred1),2)\n",
    "MSE1,RMSE1,MAE1"
   ]
  },
  {
   "cell_type": "code",
   "execution_count": 61,
   "id": "9ae3b5a0",
   "metadata": {},
   "outputs": [
    {
     "data": {
      "text/html": [
       "<div>\n",
       "<style scoped>\n",
       "    .dataframe tbody tr th:only-of-type {\n",
       "        vertical-align: middle;\n",
       "    }\n",
       "\n",
       "    .dataframe tbody tr th {\n",
       "        vertical-align: top;\n",
       "    }\n",
       "\n",
       "    .dataframe thead th {\n",
       "        text-align: right;\n",
       "    }\n",
       "</style>\n",
       "<table border=\"1\" class=\"dataframe\">\n",
       "  <thead>\n",
       "    <tr style=\"text-align: right;\">\n",
       "      <th></th>\n",
       "      <th>Actual</th>\n",
       "      <th>Predict</th>\n",
       "      <th>Variance</th>\n",
       "    </tr>\n",
       "  </thead>\n",
       "  <tbody>\n",
       "    <tr>\n",
       "      <th>900</th>\n",
       "      <td>8688.85885</td>\n",
       "      <td>8624.466967</td>\n",
       "      <td>64.391883</td>\n",
       "    </tr>\n",
       "    <tr>\n",
       "      <th>1064</th>\n",
       "      <td>5708.86700</td>\n",
       "      <td>4853.445893</td>\n",
       "      <td>855.421107</td>\n",
       "    </tr>\n",
       "    <tr>\n",
       "      <th>1256</th>\n",
       "      <td>11436.73815</td>\n",
       "      <td>14384.225423</td>\n",
       "      <td>-2947.487273</td>\n",
       "    </tr>\n",
       "    <tr>\n",
       "      <th>298</th>\n",
       "      <td>38746.35510</td>\n",
       "      <td>31596.525859</td>\n",
       "      <td>7149.829241</td>\n",
       "    </tr>\n",
       "    <tr>\n",
       "      <th>237</th>\n",
       "      <td>4463.20510</td>\n",
       "      <td>9293.931725</td>\n",
       "      <td>-4830.726625</td>\n",
       "    </tr>\n",
       "  </tbody>\n",
       "</table>\n",
       "</div>"
      ],
      "text/plain": [
       "           Actual       Predict     Variance\n",
       "900    8688.85885   8624.466967    64.391883\n",
       "1064   5708.86700   4853.445893   855.421107\n",
       "1256  11436.73815  14384.225423 -2947.487273\n",
       "298   38746.35510  31596.525859  7149.829241\n",
       "237    4463.20510   9293.931725 -4830.726625"
      ]
     },
     "execution_count": 61,
     "metadata": {},
     "output_type": "execute_result"
    }
   ],
   "source": [
    "df3=pd.DataFrame({'Actual':y_test,'Predict':pred1,'Variance':y_test-pred1})\n",
    "df3.head()"
   ]
  },
  {
   "cell_type": "code",
   "execution_count": 62,
   "id": "e262364d",
   "metadata": {},
   "outputs": [],
   "source": [
    "## Linear regression for  bmi,age,smoker"
   ]
  },
  {
   "cell_type": "code",
   "execution_count": 63,
   "id": "eab5e532",
   "metadata": {},
   "outputs": [
    {
     "data": {
      "text/html": [
       "<div>\n",
       "<style scoped>\n",
       "    .dataframe tbody tr th:only-of-type {\n",
       "        vertical-align: middle;\n",
       "    }\n",
       "\n",
       "    .dataframe tbody tr th {\n",
       "        vertical-align: top;\n",
       "    }\n",
       "\n",
       "    .dataframe thead th {\n",
       "        text-align: right;\n",
       "    }\n",
       "</style>\n",
       "<table border=\"1\" class=\"dataframe\">\n",
       "  <thead>\n",
       "    <tr style=\"text-align: right;\">\n",
       "      <th></th>\n",
       "      <th>age</th>\n",
       "      <th>sex</th>\n",
       "      <th>bmi</th>\n",
       "      <th>children</th>\n",
       "      <th>smoker</th>\n",
       "      <th>region</th>\n",
       "      <th>weight_status</th>\n",
       "    </tr>\n",
       "  </thead>\n",
       "  <tbody>\n",
       "    <tr>\n",
       "      <th>0</th>\n",
       "      <td>-1.430547</td>\n",
       "      <td>-1.009771</td>\n",
       "      <td>-0.453160</td>\n",
       "      <td>-0.909234</td>\n",
       "      <td>1.969660</td>\n",
       "      <td>1.343163</td>\n",
       "      <td>1.234558</td>\n",
       "    </tr>\n",
       "    <tr>\n",
       "      <th>1</th>\n",
       "      <td>-1.501582</td>\n",
       "      <td>0.990324</td>\n",
       "      <td>0.509422</td>\n",
       "      <td>-0.079442</td>\n",
       "      <td>-0.507702</td>\n",
       "      <td>0.438017</td>\n",
       "      <td>-0.199503</td>\n",
       "    </tr>\n",
       "    <tr>\n",
       "      <th>2</th>\n",
       "      <td>-0.791224</td>\n",
       "      <td>0.990324</td>\n",
       "      <td>0.383155</td>\n",
       "      <td>1.580143</td>\n",
       "      <td>-0.507702</td>\n",
       "      <td>0.438017</td>\n",
       "      <td>-0.199503</td>\n",
       "    </tr>\n",
       "    <tr>\n",
       "      <th>3</th>\n",
       "      <td>-2.780228</td>\n",
       "      <td>0.990324</td>\n",
       "      <td>-1.305052</td>\n",
       "      <td>-0.909234</td>\n",
       "      <td>-0.507702</td>\n",
       "      <td>-0.467128</td>\n",
       "      <td>-1.633564</td>\n",
       "    </tr>\n",
       "    <tr>\n",
       "      <th>4</th>\n",
       "      <td>-0.507080</td>\n",
       "      <td>0.990324</td>\n",
       "      <td>-0.292456</td>\n",
       "      <td>-0.909234</td>\n",
       "      <td>-0.507702</td>\n",
       "      <td>-0.467128</td>\n",
       "      <td>1.234558</td>\n",
       "    </tr>\n",
       "  </tbody>\n",
       "</table>\n",
       "</div>"
      ],
      "text/plain": [
       "        age       sex       bmi  children    smoker    region  weight_status\n",
       "0 -1.430547 -1.009771 -0.453160 -0.909234  1.969660  1.343163       1.234558\n",
       "1 -1.501582  0.990324  0.509422 -0.079442 -0.507702  0.438017      -0.199503\n",
       "2 -0.791224  0.990324  0.383155  1.580143 -0.507702  0.438017      -0.199503\n",
       "3 -2.780228  0.990324 -1.305052 -0.909234 -0.507702 -0.467128      -1.633564\n",
       "4 -0.507080  0.990324 -0.292456 -0.909234 -0.507702 -0.467128       1.234558"
      ]
     },
     "execution_count": 63,
     "metadata": {},
     "output_type": "execute_result"
    }
   ],
   "source": [
    "df2.head()"
   ]
  },
  {
   "cell_type": "code",
   "execution_count": 64,
   "id": "5926e888",
   "metadata": {},
   "outputs": [],
   "source": [
    "x1=df2[['age','bmi','smoker']]\n",
    "y=df1.charges"
   ]
  },
  {
   "cell_type": "code",
   "execution_count": 65,
   "id": "59f7df18",
   "metadata": {},
   "outputs": [
    {
     "name": "stdout",
     "output_type": "stream",
     "text": [
      "(935, 3) (935,) (402, 3) (402,)\n"
     ]
    }
   ],
   "source": [
    "# split the data 70:30\n",
    "x_train1,x_test1,y_train1,y_test1=train_test_split(x1,y,test_size=0.3,random_state=42)\n",
    "print(x_train1.shape,y_train1.shape,x_test1.shape,y_test1.shape)"
   ]
  },
  {
   "cell_type": "code",
   "execution_count": 66,
   "id": "80149a47",
   "metadata": {},
   "outputs": [],
   "source": [
    "lr1=LinearRegression()\n",
    "lr1.fit(x_train1,y_train1)\n",
    "pred2=lr1.predict(x_test1)"
   ]
  },
  {
   "cell_type": "code",
   "execution_count": 67,
   "id": "232d11e8",
   "metadata": {},
   "outputs": [
    {
     "data": {
      "text/plain": [
       "72.79"
      ]
     },
     "execution_count": 67,
     "metadata": {},
     "output_type": "execute_result"
    }
   ],
   "source": [
    "#evaluation\n",
    "score2=lr1.score(x_train1,y_train1)\n",
    "score2=round(score2*100,2)\n",
    "score2"
   ]
  },
  {
   "cell_type": "code",
   "execution_count": 68,
   "id": "a0ae98b3",
   "metadata": {},
   "outputs": [
    {
     "data": {
      "text/plain": [
       "77.05"
      ]
     },
     "execution_count": 68,
     "metadata": {},
     "output_type": "execute_result"
    }
   ],
   "source": [
    "score3=r2_score(y_test1,pred2)\n",
    "score3=round(score3*100,2)\n",
    "score3"
   ]
  },
  {
   "cell_type": "code",
   "execution_count": 69,
   "id": "a6e8b520",
   "metadata": {},
   "outputs": [
    {
     "data": {
      "text/plain": [
       "(39264822.3, 6266.16, 4207.54)"
      ]
     },
     "execution_count": 69,
     "metadata": {},
     "output_type": "execute_result"
    }
   ],
   "source": [
    "#mse,mae and rmse value\n",
    "MSE2=round(mean_squared_error(y_test1,pred2),2)\n",
    "RMSE2=round(mean_squared_error(y_test1,pred2,squared=False),2)\n",
    "MAE2=round(mean_absolute_error(y_test1,pred2),2)\n",
    "MSE2,RMSE2,MAE2"
   ]
  },
  {
   "cell_type": "code",
   "execution_count": 70,
   "id": "b7578e09",
   "metadata": {},
   "outputs": [
    {
     "data": {
      "text/html": [
       "<div>\n",
       "<style scoped>\n",
       "    .dataframe tbody tr th:only-of-type {\n",
       "        vertical-align: middle;\n",
       "    }\n",
       "\n",
       "    .dataframe tbody tr th {\n",
       "        vertical-align: top;\n",
       "    }\n",
       "\n",
       "    .dataframe thead th {\n",
       "        text-align: right;\n",
       "    }\n",
       "</style>\n",
       "<table border=\"1\" class=\"dataframe\">\n",
       "  <thead>\n",
       "    <tr style=\"text-align: right;\">\n",
       "      <th></th>\n",
       "      <th>Actual</th>\n",
       "      <th>Predict</th>\n",
       "      <th>Variance</th>\n",
       "    </tr>\n",
       "  </thead>\n",
       "  <tbody>\n",
       "    <tr>\n",
       "      <th>900</th>\n",
       "      <td>8688.85885</td>\n",
       "      <td>8266.876475</td>\n",
       "      <td>421.982375</td>\n",
       "    </tr>\n",
       "    <tr>\n",
       "      <th>1064</th>\n",
       "      <td>5708.86700</td>\n",
       "      <td>4264.251647</td>\n",
       "      <td>1444.615353</td>\n",
       "    </tr>\n",
       "    <tr>\n",
       "      <th>1256</th>\n",
       "      <td>11436.73815</td>\n",
       "      <td>13090.664723</td>\n",
       "      <td>-1653.926573</td>\n",
       "    </tr>\n",
       "    <tr>\n",
       "      <th>298</th>\n",
       "      <td>38746.35510</td>\n",
       "      <td>30365.947924</td>\n",
       "      <td>8380.407176</td>\n",
       "    </tr>\n",
       "    <tr>\n",
       "      <th>237</th>\n",
       "      <td>4463.20510</td>\n",
       "      <td>8751.092558</td>\n",
       "      <td>-4287.887458</td>\n",
       "    </tr>\n",
       "  </tbody>\n",
       "</table>\n",
       "</div>"
      ],
      "text/plain": [
       "           Actual       Predict     Variance\n",
       "900    8688.85885   8266.876475   421.982375\n",
       "1064   5708.86700   4264.251647  1444.615353\n",
       "1256  11436.73815  13090.664723 -1653.926573\n",
       "298   38746.35510  30365.947924  8380.407176\n",
       "237    4463.20510   8751.092558 -4287.887458"
      ]
     },
     "execution_count": 70,
     "metadata": {},
     "output_type": "execute_result"
    }
   ],
   "source": [
    "df4=pd.DataFrame({'Actual':y_test1,'Predict':pred2,'Variance':y_test1-pred2})\n",
    "df4.head()"
   ]
  },
  {
   "cell_type": "markdown",
   "id": "f30157f2",
   "metadata": {},
   "source": [
    "#### Decision Tree Regressor"
   ]
  },
  {
   "cell_type": "code",
   "execution_count": 71,
   "id": "0aa2d2da",
   "metadata": {},
   "outputs": [],
   "source": [
    "#Decision Tree Regressor\n",
    "#Tuning the Depth of a Tree"
   ]
  },
  {
   "cell_type": "code",
   "execution_count": 72,
   "id": "71f1cd68",
   "metadata": {},
   "outputs": [
    {
     "name": "stdout",
     "output_type": "stream",
     "text": [
      "For max depth: 1\n",
      "r2 score : 0.6161048598864115\n",
      "For max depth: 2\n",
      "r2 score : 0.8189436194122341\n",
      "For max depth: 3\n",
      "r2 score : 0.8399587499469677\n",
      "For max depth: 4\n",
      "r2 score : 0.8359494442149998\n",
      "For max depth: 5\n",
      "r2 score : 0.825843557712216\n",
      "For max depth: 6\n",
      "r2 score : 0.8158785974381573\n",
      "For max depth: 7\n",
      "r2 score : 0.7925508985874794\n",
      "For max depth: 8\n",
      "r2 score : 0.7719308959257085\n",
      "For max depth: 9\n",
      "r2 score : 0.739341622971194\n",
      "For max depth: 10\n",
      "r2 score : 0.7142170353793991\n",
      "For max depth: 11\n",
      "r2 score : 0.6897196264887967\n",
      "For max depth: 12\n",
      "r2 score : 0.6880440462420527\n",
      "For max depth: 13\n",
      "r2 score : 0.6869882909164922\n",
      "For max depth: 14\n",
      "r2 score : 0.6804687224192343\n",
      "For max depth: 15\n",
      "r2 score : 0.6829009522693292\n"
     ]
    }
   ],
   "source": [
    "max_depth = [1,2,3,4,5,6,7,8,9,10,11,12,13,14,15]\n",
    "from sklearn import tree\n",
    "from sklearn.model_selection import KFold, cross_val_score\n",
    "kf = KFold(n_splits=4, shuffle=False, random_state=None)\n",
    "for val in max_depth:\n",
    "    score = cross_val_score(tree.DecisionTreeRegressor(max_depth= val, random_state= 1), x, y, cv= kf,scoring=\"r2\") \n",
    "    print(f'For max depth: {val}')\n",
    "    #rmse(score.mean())\n",
    "    print('r2 score :',score.mean())"
   ]
  },
  {
   "cell_type": "code",
   "execution_count": 73,
   "id": "0d8be2cc",
   "metadata": {},
   "outputs": [],
   "source": [
    "dtm1 = DecisionTreeRegressor(max_depth=4)\n",
    "dtm1.fit(x_train, y_train)\n",
    "pred4 = dtm1.predict(x_test)\n"
   ]
  },
  {
   "cell_type": "code",
   "execution_count": 74,
   "id": "5354c2af",
   "metadata": {},
   "outputs": [
    {
     "data": {
      "text/plain": [
       "86.07"
      ]
     },
     "execution_count": 74,
     "metadata": {},
     "output_type": "execute_result"
    }
   ],
   "source": [
    "score6=dtm1.score(x_train,y_train)\n",
    "score6=round(score6*100,2)\n",
    "score6"
   ]
  },
  {
   "cell_type": "code",
   "execution_count": 75,
   "id": "ea8096b7",
   "metadata": {},
   "outputs": [
    {
     "data": {
      "text/plain": [
       "86.68"
      ]
     },
     "execution_count": 75,
     "metadata": {},
     "output_type": "execute_result"
    }
   ],
   "source": [
    "score7=r2_score(y_test,pred4)\n",
    "score7=round(score7*100,2)\n",
    "score7"
   ]
  },
  {
   "cell_type": "code",
   "execution_count": 76,
   "id": "d46e7725",
   "metadata": {},
   "outputs": [
    {
     "data": {
      "text/plain": [
       "(22792593.48, 4774.16, 2775.8)"
      ]
     },
     "execution_count": 76,
     "metadata": {},
     "output_type": "execute_result"
    }
   ],
   "source": [
    "#mse,mae and rmse value\n",
    "MSE3=round(mean_squared_error(y_test,pred4),2)\n",
    "RMSE3=round(mean_squared_error(y_test,pred4,squared=False),2)\n",
    "MAE3=round(mean_absolute_error(y_test,pred4),2)\n",
    "MSE3,RMSE3,MAE3"
   ]
  },
  {
   "cell_type": "code",
   "execution_count": 77,
   "id": "5191d2c6",
   "metadata": {},
   "outputs": [
    {
     "data": {
      "text/html": [
       "<div>\n",
       "<style scoped>\n",
       "    .dataframe tbody tr th:only-of-type {\n",
       "        vertical-align: middle;\n",
       "    }\n",
       "\n",
       "    .dataframe tbody tr th {\n",
       "        vertical-align: top;\n",
       "    }\n",
       "\n",
       "    .dataframe thead th {\n",
       "        text-align: right;\n",
       "    }\n",
       "</style>\n",
       "<table border=\"1\" class=\"dataframe\">\n",
       "  <thead>\n",
       "    <tr style=\"text-align: right;\">\n",
       "      <th></th>\n",
       "      <th>Actual</th>\n",
       "      <th>Predict</th>\n",
       "      <th>Variance</th>\n",
       "    </tr>\n",
       "  </thead>\n",
       "  <tbody>\n",
       "    <tr>\n",
       "      <th>900</th>\n",
       "      <td>8688.85885</td>\n",
       "      <td>11212.851141</td>\n",
       "      <td>-2523.992291</td>\n",
       "    </tr>\n",
       "    <tr>\n",
       "      <th>1064</th>\n",
       "      <td>5708.86700</td>\n",
       "      <td>6655.721858</td>\n",
       "      <td>-946.854858</td>\n",
       "    </tr>\n",
       "    <tr>\n",
       "      <th>1256</th>\n",
       "      <td>11436.73815</td>\n",
       "      <td>11212.851141</td>\n",
       "      <td>223.887009</td>\n",
       "    </tr>\n",
       "    <tr>\n",
       "      <th>298</th>\n",
       "      <td>38746.35510</td>\n",
       "      <td>41574.337559</td>\n",
       "      <td>-2827.982459</td>\n",
       "    </tr>\n",
       "    <tr>\n",
       "      <th>237</th>\n",
       "      <td>4463.20510</td>\n",
       "      <td>6655.721858</td>\n",
       "      <td>-2192.516758</td>\n",
       "    </tr>\n",
       "  </tbody>\n",
       "</table>\n",
       "</div>"
      ],
      "text/plain": [
       "           Actual       Predict     Variance\n",
       "900    8688.85885  11212.851141 -2523.992291\n",
       "1064   5708.86700   6655.721858  -946.854858\n",
       "1256  11436.73815  11212.851141   223.887009\n",
       "298   38746.35510  41574.337559 -2827.982459\n",
       "237    4463.20510   6655.721858 -2192.516758"
      ]
     },
     "execution_count": 77,
     "metadata": {},
     "output_type": "execute_result"
    }
   ],
   "source": [
    "df5=pd.DataFrame({'Actual':y_test,'Predict':pred4,'Variance':y_test-pred4})\n",
    "df5.head()"
   ]
  },
  {
   "cell_type": "code",
   "execution_count": null,
   "id": "94a49c52",
   "metadata": {},
   "outputs": [],
   "source": []
  },
  {
   "cell_type": "markdown",
   "id": "5da93fcb",
   "metadata": {},
   "source": [
    "### Random Forest Regressor"
   ]
  },
  {
   "cell_type": "code",
   "execution_count": 78,
   "id": "40113158",
   "metadata": {},
   "outputs": [],
   "source": [
    "rf = RandomForestRegressor(oob_score=True) \n",
    "rf.fit(x_train, y_train)\n",
    "pred5 = rf.predict(x_test)"
   ]
  },
  {
   "cell_type": "code",
   "execution_count": 79,
   "id": "a888dc7f",
   "metadata": {},
   "outputs": [
    {
     "data": {
      "text/plain": [
       "0.8250306521528007"
      ]
     },
     "execution_count": 79,
     "metadata": {},
     "output_type": "execute_result"
    }
   ],
   "source": [
    "rf.oob_score_"
   ]
  },
  {
   "cell_type": "code",
   "execution_count": 80,
   "id": "e70b726e",
   "metadata": {},
   "outputs": [
    {
     "data": {
      "text/plain": [
       "0.9759605990999681"
      ]
     },
     "execution_count": 80,
     "metadata": {},
     "output_type": "execute_result"
    }
   ],
   "source": [
    "rf.score(x_train,y_train)"
   ]
  },
  {
   "cell_type": "code",
   "execution_count": 81,
   "id": "958bf2ca",
   "metadata": {},
   "outputs": [
    {
     "data": {
      "text/plain": [
       "97.6"
      ]
     },
     "execution_count": 81,
     "metadata": {},
     "output_type": "execute_result"
    }
   ],
   "source": [
    "score71=rf.score(x_train,y_train)\n",
    "score71=round(score71*100,2)\n",
    "score71"
   ]
  },
  {
   "cell_type": "code",
   "execution_count": 82,
   "id": "d471bc5e",
   "metadata": {},
   "outputs": [
    {
     "data": {
      "text/plain": [
       "86.1"
      ]
     },
     "execution_count": 82,
     "metadata": {},
     "output_type": "execute_result"
    }
   ],
   "source": [
    "score8=r2_score(y_test,pred5)\n",
    "score8=round(score8*100,2)\n",
    "score8"
   ]
  },
  {
   "cell_type": "code",
   "execution_count": 83,
   "id": "72f7ba95",
   "metadata": {},
   "outputs": [
    {
     "data": {
      "text/plain": [
       "(23776972.24, 4876.16, 2631.01)"
      ]
     },
     "execution_count": 83,
     "metadata": {},
     "output_type": "execute_result"
    }
   ],
   "source": [
    "MSE4=round(mean_squared_error(y_test,pred5),2)\n",
    "RMSE4=round(mean_squared_error(y_test,pred5,squared=False),2)\n",
    "MAE4=round(mean_absolute_error(y_test,pred5),2)\n",
    "MSE4,RMSE4,MAE4"
   ]
  },
  {
   "cell_type": "code",
   "execution_count": 84,
   "id": "9e321269",
   "metadata": {},
   "outputs": [
    {
     "data": {
      "image/png": "[encoded data removed]",
      "text/plain": [
       "<Figure size 432x288 with 1 Axes>"
      ]
     },
     "metadata": {
      "needs_background": "light"
     },
     "output_type": "display_data"
    }
   ],
   "source": [
    "plt.scatter(y_test,pred5)\n",
    "plt.xlabel('y_test')\n",
    "plt.ylabel('y_pred')\n",
    "plt.show()"
   ]
  },
  {
   "cell_type": "code",
   "execution_count": 85,
   "id": "c02e1b6e",
   "metadata": {},
   "outputs": [],
   "source": [
    "def plotGraph(y_test,pred5):\n",
    "    if max(y_test) >= max(pred5):\n",
    "        my_range = int(max(y_test))\n",
    "    else:\n",
    "        my_range = int(max(pred5))\n",
    "    plt.scatter(y_test, pred5, color='red')\n",
    "    plt.plot(range(my_range), range(my_range), 'o')\n",
    "    plt.title('RandomForest')\n",
    "    plt.show()\n",
    "    return\n"
   ]
  },
  {
   "cell_type": "code",
   "execution_count": null,
   "id": "31eb6897",
   "metadata": {},
   "outputs": [],
   "source": []
  },
  {
   "cell_type": "code",
   "execution_count": 86,
   "id": "02609310",
   "metadata": {},
   "outputs": [
    {
     "data": {
      "image/png": "[encoded data removed]",
      "text/plain": [
       "<Figure size 432x288 with 1 Axes>"
      ]
     },
     "metadata": {
      "needs_background": "light"
     },
     "output_type": "display_data"
    }
   ],
   "source": [
    "plotGraph(y_test,pred5)"
   ]
  },
  {
   "cell_type": "code",
   "execution_count": 87,
   "id": "2842ac7d",
   "metadata": {},
   "outputs": [
    {
     "data": {
      "text/plain": [
       "<AxesSubplot:title={'center':'Prediction Error for RandomForestRegressor'}, xlabel='$y$', ylabel='$\\\\hat{y}$'>"
      ]
     },
     "execution_count": 87,
     "metadata": {},
     "output_type": "execute_result"
    },
    {
     "data": {
      "image/png": "[encoded data removed]",
      "text/plain": [
       "<Figure size 576x396 with 1 Axes>"
      ]
     },
     "metadata": {},
     "output_type": "display_data"
    }
   ],
   "source": [
    "from yellowbrick.regressor import PredictionError\n",
    "# Instantiate the linear model and visualizer\n",
    "rf = RandomForestRegressor(oob_score=True) \n",
    "visualizer = PredictionError(rf) \n",
    "# fit visualizer on training data\n",
    "visualizer.fit(x_train, y_train) \n",
    "#Evaluate on test data\n",
    "visualizer.score(x_test, y_test)\n",
    "#show the plot and save in given path\n",
    "visualizer.show(\"prediction_error.jpg\")"
   ]
  },
  {
   "cell_type": "code",
   "execution_count": null,
   "id": "bbc41b68",
   "metadata": {},
   "outputs": [],
   "source": []
  },
  {
   "cell_type": "code",
   "execution_count": 88,
   "id": "dbad83a9",
   "metadata": {},
   "outputs": [
    {
     "data": {
      "text/html": [
       "<div>\n",
       "<style scoped>\n",
       "    .dataframe tbody tr th:only-of-type {\n",
       "        vertical-align: middle;\n",
       "    }\n",
       "\n",
       "    .dataframe tbody tr th {\n",
       "        vertical-align: top;\n",
       "    }\n",
       "\n",
       "    .dataframe thead th {\n",
       "        text-align: right;\n",
       "    }\n",
       "</style>\n",
       "<table border=\"1\" class=\"dataframe\">\n",
       "  <thead>\n",
       "    <tr style=\"text-align: right;\">\n",
       "      <th></th>\n",
       "      <th>Actual</th>\n",
       "      <th>Predict</th>\n",
       "      <th>Variance</th>\n",
       "    </tr>\n",
       "  </thead>\n",
       "  <tbody>\n",
       "    <tr>\n",
       "      <th>900</th>\n",
       "      <td>8688.85885</td>\n",
       "      <td>9559.870761</td>\n",
       "      <td>-871.011911</td>\n",
       "    </tr>\n",
       "    <tr>\n",
       "      <th>1064</th>\n",
       "      <td>5708.86700</td>\n",
       "      <td>7410.011707</td>\n",
       "      <td>-1701.144707</td>\n",
       "    </tr>\n",
       "    <tr>\n",
       "      <th>1256</th>\n",
       "      <td>11436.73815</td>\n",
       "      <td>12959.535710</td>\n",
       "      <td>-1522.797560</td>\n",
       "    </tr>\n",
       "    <tr>\n",
       "      <th>298</th>\n",
       "      <td>38746.35510</td>\n",
       "      <td>42523.583187</td>\n",
       "      <td>-3777.228087</td>\n",
       "    </tr>\n",
       "    <tr>\n",
       "      <th>237</th>\n",
       "      <td>4463.20510</td>\n",
       "      <td>5730.093319</td>\n",
       "      <td>-1266.888219</td>\n",
       "    </tr>\n",
       "  </tbody>\n",
       "</table>\n",
       "</div>"
      ],
      "text/plain": [
       "           Actual       Predict     Variance\n",
       "900    8688.85885   9559.870761  -871.011911\n",
       "1064   5708.86700   7410.011707 -1701.144707\n",
       "1256  11436.73815  12959.535710 -1522.797560\n",
       "298   38746.35510  42523.583187 -3777.228087\n",
       "237    4463.20510   5730.093319 -1266.888219"
      ]
     },
     "execution_count": 88,
     "metadata": {},
     "output_type": "execute_result"
    }
   ],
   "source": [
    "df6=pd.DataFrame({'Actual':y_test,'Predict':pred5,'Variance':y_test-pred5})\n",
    "df6.head()"
   ]
  },
  {
   "cell_type": "code",
   "execution_count": 89,
   "id": "26e8ee9c",
   "metadata": {},
   "outputs": [],
   "source": [
    "params = {\n",
    "\"max_depth\" : [5,6,7.8,9,10,11,12,13,14,15],\n",
    "\"n_estimators\" : [6,12]\n",
    "}"
   ]
  },
  {
   "cell_type": "code",
   "execution_count": 90,
   "id": "d3778aac",
   "metadata": {},
   "outputs": [
    {
     "data": {
      "text/plain": [
       "GridSearchCV(cv=5, estimator=RandomForestRegressor(oob_score=True),\n",
       "             param_grid={'max_depth': [5, 6, 7.8, 9, 10, 11, 12, 13, 14, 15],\n",
       "                         'n_estimators': [6, 12]},\n",
       "             scoring='accuracy')"
      ]
     },
     "execution_count": 90,
     "metadata": {},
     "output_type": "execute_result"
    }
   ],
   "source": [
    "from sklearn.model_selection import GridSearchCV\n",
    "grid_search= GridSearchCV(estimator=rf,param_grid=params,cv=5,scoring=\"accuracy\")\n",
    "grid_search"
   ]
  },
  {
   "cell_type": "code",
   "execution_count": 91,
   "id": "4f180326",
   "metadata": {},
   "outputs": [
    {
     "data": {
      "text/plain": [
       "GridSearchCV(cv=5, estimator=RandomForestRegressor(oob_score=True),\n",
       "             param_grid={'max_depth': [5, 6, 7.8, 9, 10, 11, 12, 13, 14, 15],\n",
       "                         'n_estimators': [6, 12]},\n",
       "             scoring='accuracy')"
      ]
     },
     "execution_count": 91,
     "metadata": {},
     "output_type": "execute_result"
    }
   ],
   "source": [
    "grid_search.fit(x_train,y_train)"
   ]
  },
  {
   "cell_type": "code",
   "execution_count": 92,
   "id": "129ac4d8",
   "metadata": {},
   "outputs": [
    {
     "data": {
      "text/plain": [
       "nan"
      ]
     },
     "execution_count": 92,
     "metadata": {},
     "output_type": "execute_result"
    }
   ],
   "source": [
    "grid_search.best_score_"
   ]
  },
  {
   "cell_type": "code",
   "execution_count": 93,
   "id": "cef767d4",
   "metadata": {},
   "outputs": [
    {
     "data": {
      "text/plain": [
       "RandomForestRegressor(max_depth=5, n_estimators=6, oob_score=True)"
      ]
     },
     "execution_count": 93,
     "metadata": {},
     "output_type": "execute_result"
    }
   ],
   "source": [
    "grid_search.best_estimator_"
   ]
  },
  {
   "cell_type": "code",
   "execution_count": 94,
   "id": "46972f84",
   "metadata": {},
   "outputs": [],
   "source": [
    "rf_best = RandomForestRegressor(max_depth=5, n_estimators=6, oob_score=True)"
   ]
  },
  {
   "cell_type": "code",
   "execution_count": 95,
   "id": "6a0e6116",
   "metadata": {},
   "outputs": [],
   "source": [
    "rf_best.fit(x_train, y_train)\n",
    "pred6 = rf_best.predict(x_test)"
   ]
  },
  {
   "cell_type": "code",
   "execution_count": 96,
   "id": "9a67eaa9",
   "metadata": {},
   "outputs": [
    {
     "data": {
      "text/plain": [
       "88.7"
      ]
     },
     "execution_count": 96,
     "metadata": {},
     "output_type": "execute_result"
    }
   ],
   "source": [
    "score81=rf_best.score(x_train,y_train)\n",
    "score81=round(score81*100,2)\n",
    "score81"
   ]
  },
  {
   "cell_type": "code",
   "execution_count": 97,
   "id": "af6b1de9",
   "metadata": {},
   "outputs": [
    {
     "data": {
      "text/plain": [
       "87.04"
      ]
     },
     "execution_count": 97,
     "metadata": {},
     "output_type": "execute_result"
    }
   ],
   "source": [
    "score9=r2_score(y_test,pred6)\n",
    "score9=round(score9*100,2)\n",
    "score9"
   ]
  },
  {
   "cell_type": "code",
   "execution_count": 98,
   "id": "a08aed82",
   "metadata": {},
   "outputs": [
    {
     "data": {
      "text/plain": [
       "(22171014.02, 4708.61, 2705.18)"
      ]
     },
     "execution_count": 98,
     "metadata": {},
     "output_type": "execute_result"
    }
   ],
   "source": [
    "MSE5=round(mean_squared_error(y_test,pred6),2)\n",
    "RMSE5=round(mean_squared_error(y_test,pred6,squared=False),2)\n",
    "MAE5=round(mean_absolute_error(y_test,pred6),2)\n",
    "MSE5,RMSE5,MAE5"
   ]
  },
  {
   "cell_type": "code",
   "execution_count": 99,
   "id": "768a8dea",
   "metadata": {},
   "outputs": [],
   "source": [
    "dff=pd.DataFrame({'Actual' : y_test,'LR': pred1,'DT(H)':pred4,'RF':pred5})"
   ]
  },
  {
   "cell_type": "code",
   "execution_count": 100,
   "id": "ef307076",
   "metadata": {},
   "outputs": [
    {
     "data": {
      "text/html": [
       "<div>\n",
       "<style scoped>\n",
       "    .dataframe tbody tr th:only-of-type {\n",
       "        vertical-align: middle;\n",
       "    }\n",
       "\n",
       "    .dataframe tbody tr th {\n",
       "        vertical-align: top;\n",
       "    }\n",
       "\n",
       "    .dataframe thead th {\n",
       "        text-align: right;\n",
       "    }\n",
       "</style>\n",
       "<table border=\"1\" class=\"dataframe\">\n",
       "  <thead>\n",
       "    <tr style=\"text-align: right;\">\n",
       "      <th></th>\n",
       "      <th>Actual</th>\n",
       "      <th>LR</th>\n",
       "      <th>DT(H)</th>\n",
       "      <th>RF</th>\n",
       "    </tr>\n",
       "  </thead>\n",
       "  <tbody>\n",
       "    <tr>\n",
       "      <th>900</th>\n",
       "      <td>8688.85885</td>\n",
       "      <td>8624.466967</td>\n",
       "      <td>11212.851141</td>\n",
       "      <td>9559.870761</td>\n",
       "    </tr>\n",
       "    <tr>\n",
       "      <th>1064</th>\n",
       "      <td>5708.86700</td>\n",
       "      <td>4853.445893</td>\n",
       "      <td>6655.721858</td>\n",
       "      <td>7410.011707</td>\n",
       "    </tr>\n",
       "    <tr>\n",
       "      <th>1256</th>\n",
       "      <td>11436.73815</td>\n",
       "      <td>14384.225423</td>\n",
       "      <td>11212.851141</td>\n",
       "      <td>12959.535710</td>\n",
       "    </tr>\n",
       "    <tr>\n",
       "      <th>298</th>\n",
       "      <td>38746.35510</td>\n",
       "      <td>31596.525859</td>\n",
       "      <td>41574.337559</td>\n",
       "      <td>42523.583187</td>\n",
       "    </tr>\n",
       "    <tr>\n",
       "      <th>237</th>\n",
       "      <td>4463.20510</td>\n",
       "      <td>9293.931725</td>\n",
       "      <td>6655.721858</td>\n",
       "      <td>5730.093319</td>\n",
       "    </tr>\n",
       "  </tbody>\n",
       "</table>\n",
       "</div>"
      ],
      "text/plain": [
       "           Actual            LR         DT(H)            RF\n",
       "900    8688.85885   8624.466967  11212.851141   9559.870761\n",
       "1064   5708.86700   4853.445893   6655.721858   7410.011707\n",
       "1256  11436.73815  14384.225423  11212.851141  12959.535710\n",
       "298   38746.35510  31596.525859  41574.337559  42523.583187\n",
       "237    4463.20510   9293.931725   6655.721858   5730.093319"
      ]
     },
     "execution_count": 100,
     "metadata": {},
     "output_type": "execute_result"
    }
   ],
   "source": [
    "dff.head()"
   ]
  },
  {
   "cell_type": "code",
   "execution_count": 101,
   "id": "72799b9a",
   "metadata": {},
   "outputs": [
    {
     "data": {
      "text/plain": [
       "<matplotlib.legend.Legend at 0x2358b755bb0>"
      ]
     },
     "execution_count": 101,
     "metadata": {},
     "output_type": "execute_result"
    },
    {
     "data": {
      "image/png": "[encoded data removed]",
      "text/plain": [
       "<Figure size 1080x720 with 3 Axes>"
      ]
     },
     "metadata": {},
     "output_type": "display_data"
    }
   ],
   "source": [
    "plt. figure(figsize=(15,10))\n",
    "plt.subplot(131)\n",
    "plt.plot(dff['Actual'].iloc[0:11],label='Actual')\n",
    "plt.plot(dff['LR'].iloc[0:11],label='LR')\n",
    "plt.xlabel('LR')\n",
    "plt.legend()\n",
    "\n",
    "\n",
    "plt.subplot(132)\n",
    "plt.plot(dff['Actual'].iloc[0:11],label='Actual')\n",
    "plt.plot(dff['DT(H)'].iloc[0:11],label='DT(H)')\n",
    "plt.legend()\n",
    "\n",
    "plt.subplot(133)\n",
    "plt.plot(dff['Actual'].iloc[0:11],label='Actual')\n",
    "plt.plot(dff['RF'].iloc[0:11],label='RF')\n",
    "\n",
    "plt.legend()"
   ]
  },
  {
   "cell_type": "code",
   "execution_count": null,
   "id": "f44d10f3",
   "metadata": {},
   "outputs": [],
   "source": []
  },
  {
   "cell_type": "code",
   "execution_count": null,
   "id": "6ce65381",
   "metadata": {},
   "outputs": [],
   "source": []
  },
  {
   "cell_type": "code",
   "execution_count": 102,
   "id": "a54f7af1",
   "metadata": {},
   "outputs": [],
   "source": [
    "dff1=pd.DataFrame({'Accuracy':[score0,score6,score71],\n",
    "       'Accuracy2':[score1,score7,score8]}, index=['Linear Regression','Decision Tree (hyperparameter)','Random Forest'])"
   ]
  },
  {
   "cell_type": "code",
   "execution_count": 103,
   "id": "c3040809",
   "metadata": {},
   "outputs": [
    {
     "data": {
      "text/html": [
       "<div>\n",
       "<style scoped>\n",
       "    .dataframe tbody tr th:only-of-type {\n",
       "        vertical-align: middle;\n",
       "    }\n",
       "\n",
       "    .dataframe tbody tr th {\n",
       "        vertical-align: top;\n",
       "    }\n",
       "\n",
       "    .dataframe thead th {\n",
       "        text-align: right;\n",
       "    }\n",
       "</style>\n",
       "<table border=\"1\" class=\"dataframe\">\n",
       "  <thead>\n",
       "    <tr style=\"text-align: right;\">\n",
       "      <th></th>\n",
       "      <th>Accuracy</th>\n",
       "      <th>Accuracy2</th>\n",
       "    </tr>\n",
       "  </thead>\n",
       "  <tbody>\n",
       "    <tr>\n",
       "      <th>Linear Regression</th>\n",
       "      <td>73.25</td>\n",
       "      <td>77.29</td>\n",
       "    </tr>\n",
       "    <tr>\n",
       "      <th>Decision Tree (hyperparameter)</th>\n",
       "      <td>86.07</td>\n",
       "      <td>86.68</td>\n",
       "    </tr>\n",
       "    <tr>\n",
       "      <th>Random Forest</th>\n",
       "      <td>97.60</td>\n",
       "      <td>86.10</td>\n",
       "    </tr>\n",
       "  </tbody>\n",
       "</table>\n",
       "</div>"
      ],
      "text/plain": [
       "                                Accuracy  Accuracy2\n",
       "Linear Regression                  73.25      77.29\n",
       "Decision Tree (hyperparameter)     86.07      86.68\n",
       "Random Forest                      97.60      86.10"
      ]
     },
     "execution_count": 103,
     "metadata": {},
     "output_type": "execute_result"
    }
   ],
   "source": [
    "dff1"
   ]
  },
  {
   "cell_type": "code",
   "execution_count": 104,
   "id": "d22237e3",
   "metadata": {},
   "outputs": [
    {
     "data": {
      "image/png": "[encoded data removed]",
      "text/plain": [
       "<Figure size 720x576 with 1 Axes>"
      ]
     },
     "metadata": {},
     "output_type": "display_data"
    }
   ],
   "source": [
    "dff1.plot(kind=\"bar\",figsize=(10, 8))\n",
    "plt.show()"
   ]
  },
  {
   "cell_type": "markdown",
   "id": "087c8336",
   "metadata": {},
   "source": [
    "## CONCLUSION"
   ]
  },
  {
   "cell_type": "markdown",
   "id": "4dcc5a18",
   "metadata": {},
   "source": [
    "### By comparing all the modelswith accuracy,r2_score score we find that Random Forest Algorithm is best model for predict charges"
   ]
  },
  {
   "cell_type": "code",
   "execution_count": null,
   "id": "bd0d58b0",
   "metadata": {},
   "outputs": [],
   "source": []
  },
  {
   "cell_type": "markdown",
   "id": "e070fcf3",
   "metadata": {},
   "source": [
    "### Predict Charges for new customer"
   ]
  },
  {
   "cell_type": "code",
   "execution_count": 116,
   "id": "c253e2b6",
   "metadata": {},
   "outputs": [],
   "source": [
    "data=({'age':[40,50],'sex':[1,1],'bmi':[40.30,35],'children':[4,5],'smoker':[1,0],'region':[1,2],'weigh_status':[4,3]})"
   ]
  },
  {
   "cell_type": "code",
   "execution_count": 117,
   "id": "257b68c1",
   "metadata": {},
   "outputs": [],
   "source": [
    "dfff=pd.DataFrame(data,index=[0,1])\n"
   ]
  },
  {
   "cell_type": "code",
   "execution_count": 118,
   "id": "2b061490",
   "metadata": {},
   "outputs": [
    {
     "data": {
      "text/html": [
       "<div>\n",
       "<style scoped>\n",
       "    .dataframe tbody tr th:only-of-type {\n",
       "        vertical-align: middle;\n",
       "    }\n",
       "\n",
       "    .dataframe tbody tr th {\n",
       "        vertical-align: top;\n",
       "    }\n",
       "\n",
       "    .dataframe thead th {\n",
       "        text-align: right;\n",
       "    }\n",
       "</style>\n",
       "<table border=\"1\" class=\"dataframe\">\n",
       "  <thead>\n",
       "    <tr style=\"text-align: right;\">\n",
       "      <th></th>\n",
       "      <th>age</th>\n",
       "      <th>sex</th>\n",
       "      <th>bmi</th>\n",
       "      <th>children</th>\n",
       "      <th>smoker</th>\n",
       "      <th>region</th>\n",
       "      <th>weigh_status</th>\n",
       "    </tr>\n",
       "  </thead>\n",
       "  <tbody>\n",
       "    <tr>\n",
       "      <th>0</th>\n",
       "      <td>40</td>\n",
       "      <td>1</td>\n",
       "      <td>40.3</td>\n",
       "      <td>4</td>\n",
       "      <td>1</td>\n",
       "      <td>1</td>\n",
       "      <td>4</td>\n",
       "    </tr>\n",
       "    <tr>\n",
       "      <th>1</th>\n",
       "      <td>50</td>\n",
       "      <td>1</td>\n",
       "      <td>35.0</td>\n",
       "      <td>5</td>\n",
       "      <td>0</td>\n",
       "      <td>2</td>\n",
       "      <td>3</td>\n",
       "    </tr>\n",
       "  </tbody>\n",
       "</table>\n",
       "</div>"
      ],
      "text/plain": [
       "   age  sex   bmi  children  smoker  region  weigh_status\n",
       "0   40    1  40.3         4       1       1             4\n",
       "1   50    1  35.0         5       0       2             3"
      ]
     },
     "execution_count": 118,
     "metadata": {},
     "output_type": "execute_result"
    }
   ],
   "source": [
    "dfff"
   ]
  },
  {
   "cell_type": "code",
   "execution_count": 121,
   "id": "133ac155",
   "metadata": {},
   "outputs": [
    {
     "data": {
      "text/plain": [
       "array([47803.7993285, 27121.5037385])"
      ]
     },
     "execution_count": 121,
     "metadata": {},
     "output_type": "execute_result"
    }
   ],
   "source": [
    "new_pred=rf.predict(dfff)\n",
    "new_pred"
   ]
  },
  {
   "cell_type": "markdown",
   "id": "29b824c3",
   "metadata": {},
   "source": [
    "### Save Model Using Joblib"
   ]
  },
  {
   "cell_type": "code",
   "execution_count": 109,
   "id": "98d7d4ea",
   "metadata": {},
   "outputs": [
    {
     "data": {
      "text/plain": [
       "RandomForestRegressor(oob_score=True)"
      ]
     },
     "execution_count": 109,
     "metadata": {},
     "output_type": "execute_result"
    }
   ],
   "source": [
    "rf=RandomForestRegressor(oob_score=True)\n",
    "rf.fit(x_train,y_train)"
   ]
  },
  {
   "cell_type": "code",
   "execution_count": 110,
   "id": "58c31d6d",
   "metadata": {},
   "outputs": [],
   "source": [
    "import joblib"
   ]
  },
  {
   "cell_type": "code",
   "execution_count": 111,
   "id": "620dbaf8",
   "metadata": {},
   "outputs": [
    {
     "data": {
      "text/plain": [
       "['model_joblib_rf']"
      ]
     },
     "execution_count": 111,
     "metadata": {},
     "output_type": "execute_result"
    }
   ],
   "source": [
    "joblib.dump(rf,'model_joblib_rf')#save the model\n"
   ]
  },
  {
   "cell_type": "code",
   "execution_count": 112,
   "id": "8cdecbe8",
   "metadata": {},
   "outputs": [],
   "source": [
    "model=joblib.load('model_joblib_rf')# Use the loaded pickled model to make predictions"
   ]
  },
  {
   "cell_type": "code",
   "execution_count": 113,
   "id": "71b694af",
   "metadata": {},
   "outputs": [
    {
     "data": {
      "text/plain": [
       "array([47803.7993285])"
      ]
     },
     "execution_count": 113,
     "metadata": {},
     "output_type": "execute_result"
    }
   ],
   "source": [
    "model.predict(dfff)"
   ]
  },
  {
   "cell_type": "markdown",
   "id": "948d8644",
   "metadata": {},
   "source": [
    "## GUI"
   ]
  },
  {
   "cell_type": "code",
   "execution_count": 114,
   "id": "d605bc0f",
   "metadata": {},
   "outputs": [],
   "source": [
    "from tkinter import *\n",
    "import joblib"
   ]
  },
  {
   "cell_type": "code",
   "execution_count": 115,
   "id": "055c97a8",
   "metadata": {},
   "outputs": [],
   "source": [
    "def show_entry():\n",
    "    p1=float(e1.get())\n",
    "    p2=float(e2.get())\n",
    "    p3=float(e3.get())\n",
    "    p4=float(e4.get())\n",
    "    p5=float(e5.get())\n",
    "    p6=float(e6.get())\n",
    "    p7=float(e7.get())\n",
    "    model=joblib.load('model_joblib_rf')\n",
    "    result=model.predict([[p1,p2,p3,p4,p5,p6,p7]])\n",
    "    \n",
    "    Label(master,text= 'Insurance Cost').grid(row=8)\n",
    "    Label(master,text=result).grid(row=9)\n",
    "    \n",
    "    \n",
    "\n",
    "master=Tk()\n",
    "master.title('Insurance Cost prediction')\n",
    "label=Label(master,text = 'Insurance Cost prediction',bg='black',fg='white').grid(row=0,columnspan=2)\n",
    "\n",
    "Label(master,text='Enter your age').grid(row=1)\n",
    "Label(master,text='Enter your sex').grid(row=2)\n",
    "Label(master,text='Enter your bmi').grid(row=3)\n",
    "Label(master,text='Enter Number Of  children').grid(row=4)\n",
    "Label(master,text='Smoker Yes/No').grid(row=5)\n",
    "Label(master,text='Region [1-4]').grid(row=6)\n",
    "Label(master,text='Enter your weight_status').grid(row=7)\n",
    "\n",
    "e1=Entry(master)\n",
    "e2=Entry(master)\n",
    "e3=Entry(master)\n",
    "e4=Entry(master)\n",
    "e5=Entry(master)\n",
    "e6=Entry(master)\n",
    "e7=Entry(master)\n",
    "e1.grid(row=1,column=1)\n",
    "e2.grid(row=2,column=1)\n",
    "e3.grid(row=3,column=1)\n",
    "e4.grid(row=4,column=1)\n",
    "e5.grid(row=5,column=1)\n",
    "e6.grid(row=6,column=1)\n",
    "e7.grid(row=7,column=1)\n",
    "\n",
    "Button(master,text='predict',command=show_entry).grid()  #Creating 'Calculate Score' button\n",
    "\n",
    "\n",
    "mainloop()"
   ]
  },
  {
   "cell_type": "code",
   "execution_count": null,
   "id": "cb757adf",
   "metadata": {},
   "outputs": [],
   "source": []
  },
  {
   "cell_type": "code",
   "execution_count": null,
   "id": "35ca2ae7",
   "metadata": {},
   "outputs": [],
   "source": []
  },
  {
   "cell_type": "code",
   "execution_count": null,
   "id": "7424071a",
   "metadata": {},
   "outputs": [],
   "source": []
  },
  {
   "cell_type": "code",
   "execution_count": null,
   "id": "42272b86",
   "metadata": {},
   "outputs": [],
   "source": []
  },
  {
   "cell_type": "code",
   "execution_count": null,
   "id": "1786a4d6",
   "metadata": {},
   "outputs": [],
   "source": []
  }
 ],
 "metadata": {
  "kernelspec": {
   "display_name": "Python 3 (ipykernel)",
   "language": "python",
   "name": "python3"
  },
  "language_info": {
   "codemirror_mode": {
    "name": "ipython",
    "version": 3
   },
   "file_extension": ".py",
   "mimetype": "text/x-python",
   "name": "python",
   "nbconvert_exporter": "python",
   "pygments_lexer": "ipython3",
   "version": "3.9.12"
  }
 },
 "nbformat": 4,
 "nbformat_minor": 5
}
